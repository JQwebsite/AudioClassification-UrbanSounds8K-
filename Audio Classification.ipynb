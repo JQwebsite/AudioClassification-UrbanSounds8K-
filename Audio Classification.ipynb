{
    "cells": [
        {
            "cell_type": "markdown",
            "metadata": {
                "id": "OksgqWXLlGzx"
            },
            "source": [
                "**Actual Machine Learning**"
            ]
        },
        {
            "cell_type": "code",
            "execution_count": null,
            "metadata": {},
            "outputs": [],
            "source": [
                "# tqdm\n",
                "from pathlib import Path\n",
                "import Augmentation\n",
                "import torchaudio\n",
                "from torch.utils.data import Dataset, DataLoader\n",
                "import torch\n",
                "import torch.nn as nn\n",
                "from torchvision import datasets\n",
                "import numpy as np\n",
                "from torch.utils.data import Dataset, DataLoader\n",
                "from datetime import datetime\n",
                "import os\n",
                "import time\n",
                "\n",
                "import mlmodel\n",
                "\n",
                "audio_paths = Augmentation.getAudioPaths('./UrbanSounds8K/')[0:10]\n",
                "\n",
                "audio_train_paths, audio_val_paths = audio_paths[:int(\n",
                "    0.8 * len(audio_paths))], audio_paths[int(0.8 * len(audio_paths)):]\n",
                "\n",
                "audio_train_dataset = Augmentation.AudioDataset(\n",
                "    audio_train_paths,\n",
                "    transformList=[\n",
                "        torchaudio.transforms.TimeMasking(time_mask_param=80),\n",
                "        torchaudio.transforms.FrequencyMasking(freq_mask_param=80),\n",
                "    ])\n",
                "\n",
                "audio_val_dataset = Augmentation.AudioDataset(audio_val_paths)\n",
                "\n",
                "train_dataloader = torch.utils.data.DataLoader(audio_train_dataset,\n",
                "                                               batch_size=4,\n",
                "                                               num_workers=0,\n",
                "                                               shuffle=True)\n",
                "\n",
                "val_dataloader = torch.utils.data.DataLoader(audio_val_dataset,\n",
                "                                              batch_size=4,\n",
                "                                              num_workers=0,\n",
                "                                              shuffle=True,\n",
                "                                             )\n",
                "\n",
                "model = torch.hub.load('pytorch/vision:v0.10.0', 'resnet18')\n",
                "\n",
                "model.conv1 = nn.Conv2d(1,\n",
                "                        64,\n",
                "                        kernel_size=(7, 7),\n",
                "                        stride=(2, 2),\n",
                "                        padding=(3, 3),\n",
                "                        bias=False)\n",
                "\n",
                "model.fc = nn.Linear(in_features=512, out_features=10, bias=True)\n",
                "cost = torch.nn.CrossEntropyLoss()\n",
                "optimizer = torch.optim.Adam(model.parameters(), lr=0.001)\n",
                "\n",
                "title = datetime.now().strftime(\"%Y-%m-%d,%H-%M-%S\")\n",
                "title = False\n",
                "mymodel = mlmodel.mlmodel(model, optimizer, train_dataloader, val_dataloader,\n",
                "                          torch.nn.CrossEntropyLoss(), title)"
            ]
        },
        {
            "cell_type": "code",
            "execution_count": null,
            "metadata": {},
            "outputs": [],
            "source": [
                "# mymodel.write_tb_graph(train_dataloader)"
            ]
        },
        {
            "cell_type": "code",
            "execution_count": null,
            "metadata": {
                "colab": {
                    "base_uri": "https://localhost:8080/",
                    "height": 432
                },
                "id": "obI3fgwAQhLP",
                "outputId": "8df092c6-e4c0-46f0-fcc8-fb2e7903291a"
            },
            "outputs": [],
            "source": [
                "mymodel.interateModel(epochs = 100)"
            ]
        },
        {
            "cell_type": "code",
            "execution_count": null,
            "metadata": {},
            "outputs": [],
            "source": [
                "model.load_state_dict(\n",
                "    torch.load(\"./model/model_t4,f4,tf4.pt\", map_location=device))"
            ]
        },
        {
            "cell_type": "code",
            "execution_count": null,
            "metadata": {},
            "outputs": [],
            "source": [
                "audio_test_dataset = datasets.DatasetFolder(root='./UrbanSounds8K/spectrograms/test/',\n",
                "                                       loader=npy_loader,\n",
                "                                       extensions=['.npy'])\n",
                "\n",
                "test_dataloader = torch.utils.data.DataLoader(audio_test_dataset,\n",
                "                                              batch_size=16,\n",
                "                                              num_workers=0,\n",
                "                                              shuffle=True,\n",
                "                                             )\n",
                "\n",
                "val(val_dataloader, model)"
            ]
        },
        {
            "cell_type": "code",
            "execution_count": null,
            "metadata": {},
            "outputs": [],
            "source": [
                "torch.save(model.state_dict(), f\"./model/model_t4,f4,tf4.pt\")"
            ]
        },
        {
            "cell_type": "markdown",
            "metadata": {
                "id": "DIAP8Nvg88ag"
            },
            "source": [
                "**Debugging**"
            ]
        },
        {
            "cell_type": "code",
            "execution_count": null,
            "metadata": {
                "colab": {
                    "base_uri": "https://localhost:8080/"
                },
                "id": "RumP79RPD4v6",
                "outputId": "158f193d-1fbe-4000-90b8-97bb285389bc"
            },
            "outputs": [],
            "source": [
                "\n",
                "# audio_dataset = []\n",
                "# sum = 0\n",
                "\n",
                "# main_path = './UrbanSounds8K/spectrograms/'\n",
                "\n",
                "# dir = [str(p) for p in Path(main_path).glob('*')]\n",
                "# for path in dir:\n",
                "#   print('Loading: '+ path)\n",
                "#   num = len([str(p) for p in Path(path).glob('*')])\n",
                "#   sum += num\n",
                "#   print(num)\n",
                "\n",
                "# sum"
            ]
        }
    ],
    "metadata": {
        "accelerator": "GPU",
        "colab": {
            "collapsed_sections": [],
            "provenance": []
        },
        "kernelspec": {
            "display_name": "Python 3.10.6 64-bit",
            "language": "python",
            "name": "python3"
        },
        "language_info": {
            "codemirror_mode": {
                "name": "ipython",
                "version": 3
            },
            "file_extension": ".py",
            "mimetype": "text/x-python",
            "name": "python",
            "nbconvert_exporter": "python",
            "pygments_lexer": "ipython3",
            "version": "3.10.6"
        },
        "vscode": {
            "interpreter": {
                "hash": "369f2c481f4da34e4445cda3fffd2e751bd1c4d706f27375911949ba6bb62e1c"
            }
        }
    },
    "nbformat": 4,
    "nbformat_minor": 4
}

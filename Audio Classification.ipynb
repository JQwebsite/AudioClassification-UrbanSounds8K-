{
    "cells": [
        {
            "cell_type": "markdown",
            "metadata": {
                "id": "OksgqWXLlGzx"
            },
            "source": [
                "**Actual Machine Learning**"
            ]
        },
        {
            "cell_type": "code",
            "execution_count": 90,
            "metadata": {
                "id": "-XHxisXgPOeN"
            },
            "outputs": [],
            "source": [
                "import os\n",
                "import IPython.display as ipd\n",
                "from IPython.display import Audio\n",
                "import random\n",
                "from torchvision import datasets, transforms\n",
                "import torch\n",
                "import torch.nn as nn\n",
                "import torch.nn.functional as F\n",
                "import torch.optim as optim\n",
                "import numpy as np\n",
                "from torchvision import datasets, models, transforms\n",
                "# from torchinfo import summary\n",
                "import matplotlib.pyplot as plt\n",
                "from torch.utils.data import Dataset, DataLoader\n",
                "from pathlib import Path\n",
                "import torchvision\n",
                "from torch.utils.tensorboard import SummaryWriter"
            ]
        },
        {
            "cell_type": "code",
            "execution_count": 2,
            "metadata": {
                "colab": {
                    "base_uri": "https://localhost:8080/"
                },
                "id": "VHCkJ1iPqSiu",
                "outputId": "e4d42133-d1b6-4ae9-82ab-71efab8aa770"
            },
            "outputs": [
                {
                    "name": "stdout",
                    "output_type": "stream",
                    "text": [
                        "Training size: 9074\n",
                        "Validation size: 175\n"
                    ]
                },
                {
                    "name": "stderr",
                    "output_type": "stream",
                    "text": [
                        "Using cache found in C:\\Users\\jianq/.cache\\torch\\hub\\pytorch_vision_v0.10.0\n"
                    ]
                },
                {
                    "data": {
                        "text/plain": [
                            "device(type='cpu')"
                        ]
                    },
                    "execution_count": 2,
                    "metadata": {},
                    "output_type": "execute_result"
                }
            ],
            "source": [
                "def npy_loader(path):\n",
                "    sample = torch.from_numpy(np.load(path))\n",
                "    return sample\n",
                "\n",
                "\n",
                "audio_train_dataset = datasets.DatasetFolder(root='./UrbanSounds8K/spectrograms/train/',\n",
                "                                       loader=npy_loader,\n",
                "                                       extensions=['.npy'])\n",
                "\n",
                "audio_val_dataset = datasets.DatasetFolder(root='./UrbanSounds8K/spectrograms/val/',\n",
                "                                       loader=npy_loader,\n",
                "                                       extensions=['.npy'])\n",
                "\n",
                "print(\"Training size:\", len(audio_train_dataset))\n",
                "print(\"Validation size:\",len(audio_val_dataset))\n",
                "\n",
                "train_dataloader = torch.utils.data.DataLoader(audio_train_dataset,\n",
                "                                               batch_size=16,\n",
                "                                               num_workers=0,\n",
                "                                               shuffle=True)\n",
                "\n",
                "val_dataloader = torch.utils.data.DataLoader(audio_val_dataset,\n",
                "                                              batch_size=16,\n",
                "                                              num_workers=0,\n",
                "                                              shuffle=True,\n",
                "                                             )\n",
                "\n",
                "import torch.nn.functional as F\n",
                "from torch.nn import init\n",
                "\n",
                "model = torch.hub.load('pytorch/vision:v0.10.0', 'resnet18')\n",
                "model.conv1 = nn.Conv2d(1,\n",
                "                        64,\n",
                "                        kernel_size=(7, 7),\n",
                "                        stride=(2, 2),\n",
                "                        padding=(3, 3),\n",
                "                        bias=False)\n",
                "device = torch.device(\"cuda:0\" if torch.cuda.is_available() else \"cpu\")\n",
                "model = model.to(device)\n",
                "\n",
                "# Check that it is on Cuda\n",
                "next(model.parameters()).device"
            ]
        },
        {
            "cell_type": "code",
            "execution_count": null,
            "metadata": {
                "id": "-MJQlAMOlfMn"
            },
            "outputs": [],
            "source": [
                "# rm -rf ./logsdir/ # remove all logs"
            ]
        },
        {
            "cell_type": "code",
            "execution_count": 6,
            "metadata": {
                "id": "aVrAKQinQfWA"
            },
            "outputs": [],
            "source": [
                "# cost function used to determine best parameters\n",
                "cost = torch.nn.CrossEntropyLoss()\n",
                "\n",
                "# used to create optimal parameters\n",
                "learning_rate = 0.001\n",
                "optimizer = torch.optim.Adam(model.parameters(), lr=learning_rate)\n",
                "\n",
                "# Create the training function\n",
                "def train(dataloader, model, optimizer):\n",
                "    train_size = len(dataloader.dataset)\n",
                "    batch_size = len(next(iter(dataloader))[1])\n",
                "    total_batch = len(dataloader)\n",
                "    train_loss, train_accuracy = 0, 0\n",
                "\n",
                "    model.train()\n",
                "\n",
                "    for batch, (X, Y) in enumerate(dataloader):\n",
                "        X, Y = X.to(device), Y.to(device)\n",
                "        optimizer.zero_grad()\n",
                "        pred = model(X)\n",
                "        batch_loss = cost(pred, Y)\n",
                "        batch_loss.backward()\n",
                "        optimizer.step()\n",
                "        batch_accuracy = (pred.argmax(1)==Y).type(torch.float).sum()\n",
                "        train_loss += batch_loss.item()\n",
                "        train_accuracy += batch_accuracy.item()\n",
                "        if batch % 100 == 0:\n",
                "            print(\n",
                "                f\"Training batch {batch}/{total_batch} -> Loss: {batch_loss.item()}  Accuracy: {batch_accuracy.item()/batch_size*100}%\"\n",
                "            )\n",
                "    train_loss /= train_size\n",
                "    train_accuracy /= train_size/100\n",
                "    return(train_loss, train_accuracy)\n",
                "\n",
                "\n",
                "# Create the validation function\n",
                "def val(dataloader, model):\n",
                "    val_size = len(dataloader.dataset)\n",
                "    total_batch = len(dataloader)\n",
                "    val_loss, val_accuracy = 0, 0\n",
                "\n",
                "    model.eval()\n",
                "\n",
                "    with torch.no_grad():\n",
                "        for batch, (X, Y) in enumerate(dataloader):\n",
                "            X, Y = X.to(device), Y.to(device)\n",
                "            pred = model(X)\n",
                "            batch_loss = cost(pred, Y)\n",
                "            batch_accuracy = (pred.argmax(1)==Y).type(torch.float).sum()\n",
                "            val_loss += batch_loss.item()\n",
                "            val_accuracy += batch_accuracy.item()\n",
                "        if batch % 10 == 0:\n",
                "            print(\n",
                "                f\"Validation batch {batch}/{total_batch} -> Loss: {batch_loss.item()}  Accuracy: {batch_accuracy.item()/batch_size*100}%\"\n",
                "            )\n",
                "\n",
                "    val_loss /= val_size\n",
                "    val_accuracy /= val_size/100\n",
                "    return(val_loss, val_accuracy)"
            ]
        },
        {
            "cell_type": "markdown",
            "metadata": {
                "id": "4aFppr-urj8t"
            },
            "source": [
                "Tensorboard model graph"
            ]
        },
        {
            "cell_type": "code",
            "execution_count": 5,
            "metadata": {
                "id": "bQEUozxSkwc9"
            },
            "outputs": [],
            "source": [
                "import time\n",
                "from datetime import datetime\n",
                "\n",
                "title = datetime.now().strftime(\"%Y-%m-%d,%H-%M-%S\")\n",
                "# title=\"freqTimeFulldataset\"\n",
                "\n",
                "writer = SummaryWriter(f'./logs/{title}')\n",
                "writer.close()"
            ]
        },
        {
            "cell_type": "code",
            "execution_count": null,
            "metadata": {
                "id": "nalCtoeHsRrv"
            },
            "outputs": [],
            "source": [
                "def tensorBoardLogging(train_loss, train_accuracy, val_loss, val_accuracy, epoch):\n",
                "    writer.add_scalar('1 Training/1 Model loss', train_loss, epoch)\n",
                "    writer.add_scalar('1 Training/2 Model accuracy', train_accuracy, epoch)\n",
                "    writer.add_scalar('2 Validate/1 Model loss', val_loss, epoch)\n",
                "    writer.add_scalar('2 Validate/2 Model accuracy', val_accuracy, epoch)\n",
                "    writer.close()"
            ]
        },
        {
            "cell_type": "code",
            "execution_count": null,
            "metadata": {
                "colab": {
                    "base_uri": "https://localhost:8080/",
                    "height": 432
                },
                "id": "obI3fgwAQhLP",
                "outputId": "8df092c6-e4c0-46f0-fcc8-fb2e7903291a"
            },
            "outputs": [],
            "source": [
                "import time\n",
                "\n",
                "epochs = 20\n",
                "for epoch in range(epochs):\n",
                "    print(f'Epoch {epoch+1}/{epochs}\\n-------------------------------')\n",
                "    start = time.time()\n",
                "    train_loss, train_accuracy = train(train_dataloader, model, optimizer)\n",
                "    val_loss, val_accuracy = val(val_dataloader, model)\n",
                "    end = time.time()\n",
                "    print(f\"\\nEpoch duration: {end - start} seconds\")\n",
                "    print(f'Training | Loss: {train_loss} Accuracy: {train_accuracy}%')\n",
                "    print(f'Validating  | Loss: {val_loss} Accuracy: {val_accuracy}% \\n')\n",
                "    # tensorBoardLogging(train_loss, train_accuracy, val_loss, val_accuracy, epoch)\n",
                "\n",
                "print('Done!')"
            ]
        },
        {
            "cell_type": "markdown",
            "metadata": {},
            "source": [
                "Testing trained model"
            ]
        },
        {
            "cell_type": "code",
            "execution_count": 97,
            "metadata": {},
            "outputs": [],
            "source": [
                "test_dataset = []\n",
                "test_dataset = load_audio_files('./UrbanSounds8K/fold9/', test_dataset)"
            ]
        },
        {
            "cell_type": "code",
            "execution_count": 115,
            "metadata": {},
            "outputs": [],
            "source": [
                "randIndex_list = torch.randint(0, len(test_dataset),(1,10))[0]"
            ]
        },
        {
            "cell_type": "code",
            "execution_count": 117,
            "metadata": {},
            "outputs": [],
            "source": [
                "predicted = [1, 1, 1, 1, 1, 1, 1, 1, 1, 1]\n",
                "\n",
                "for i, randIndex in enumerate(randIndex_list):\n",
                "    waveform, class_id, title = test_dataset[randIndex]\n",
                "    writer.add_audio(\n",
                "        f'Test/({title})A:{class_map[class_id]} P:{class_map[predicted[i]]}',\n",
                "        waveform, 44100)\n",
                "\n",
                "writer.close()"
            ]
        }
    ],
    "metadata": {
        "accelerator": "GPU",
        "colab": {
            "collapsed_sections": [],
            "provenance": []
        },
        "kernelspec": {
            "display_name": "Python 3.10.7 64-bit (microsoft store)",
            "language": "python",
            "name": "python3"
        },
        "language_info": {
            "codemirror_mode": {
                "name": "ipython",
                "version": 3
            },
            "file_extension": ".py",
            "mimetype": "text/x-python",
            "name": "python",
            "nbconvert_exporter": "python",
            "pygments_lexer": "ipython3",
            "version": "3.10.7"
        },
        "vscode": {
            "interpreter": {
                "hash": "5e0ea5c72d63ec74a3e65528804f354af75f9a6d7105333063f2a8079cd404aa"
            }
        }
    },
    "nbformat": 4,
    "nbformat_minor": 4
}

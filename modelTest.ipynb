{
 "cells": [
  {
   "cell_type": "code",
   "execution_count": 1,
   "metadata": {},
   "outputs": [],
   "source": [
    "import torch\n",
    "import torch.nn as nn\n",
    "from torchvision import datasets\n",
    "import numpy as np\n",
    "from torch.utils.data import Dataset, DataLoader\n",
    "from datetime import datetime\n",
    "from torch.utils.tensorboard import SummaryWriter\n",
    "import os\n",
    "\n",
    "def npy_loader(path):\n",
    "    return torch.from_numpy(np.load(path))\n",
    "\n",
    "def train(dataloader, model, optimizer):\n",
    "    train_size = len(dataloader.dataset)\n",
    "    batch_size = len(next(iter(dataloader))[1])\n",
    "    total_batch = len(dataloader)\n",
    "    train_loss, train_accuracy = 0, 0\n",
    "\n",
    "    model.train()\n",
    "\n",
    "    for batch, (X, Y) in enumerate(dataloader):\n",
    "        X, Y = X.to(device), Y.to(device)\n",
    "        optimizer.zero_grad()\n",
    "        pred = model(X)\n",
    "        batch_loss = cost(pred, Y)\n",
    "        batch_loss.backward()\n",
    "        optimizer.step()\n",
    "        batch_accuracy = (pred.argmax(1)==Y).type(torch.float).sum()\n",
    "        train_loss += batch_loss.item()\n",
    "        train_accuracy += batch_accuracy.item()\n",
    "        if batch % 100 == 0:\n",
    "            print(\n",
    "                f\"Training batch {batch}/{total_batch} -> Loss: {batch_loss.item()}  Accuracy: {batch_accuracy.item()/batch_size*100}%\"\n",
    "            )\n",
    "    train_loss /= train_size\n",
    "    train_accuracy /= train_size/100\n",
    "    return(train_loss, train_accuracy)\n",
    "\n",
    "def val(dataloader, model):\n",
    "    val_size = len(dataloader.dataset)\n",
    "    total_batch = len(dataloader)\n",
    "    val_loss, val_accuracy = 0, 0\n",
    "\n",
    "    model.eval()\n",
    "\n",
    "    with torch.no_grad():\n",
    "        for batch, (X, Y) in enumerate(dataloader):\n",
    "            X, Y = X.to(device), Y.to(device)\n",
    "            pred = model(X)\n",
    "            batch_loss = cost(pred, Y)\n",
    "            batch_accuracy = (pred.argmax(1)==Y).type(torch.float).sum()\n",
    "            val_loss += batch_loss.item()\n",
    "            val_accuracy += batch_accuracy.item()\n",
    "        if batch % 10 == 0:\n",
    "            print(\n",
    "                f\"Validation batch {batch}/{total_batch} -> Loss: {batch_loss.item()}  Accuracy: {batch_accuracy.item()/batch_size*100}%\"\n",
    "            )\n",
    "\n",
    "    val_loss /= val_size\n",
    "    val_accuracy /= val_size/100\n",
    "    return(val_loss, val_accuracy)\n",
    "\n",
    "def tensorBoardLogging(train_loss, train_accuracy, val_loss, val_accuracy,\n",
    "                       epoch):\n",
    "    writer.add_scalar('1 Training/1 Model loss', train_loss, epoch)\n",
    "    writer.add_scalar('1 Training/2 Model accuracy', train_accuracy, epoch)\n",
    "    writer.add_scalar('2 Validate/1 Model loss', val_loss, epoch)\n",
    "    writer.add_scalar('2 Validate/2 Model accuracy', val_accuracy, epoch)\n",
    "    writer.close()\n"
   ]
  },
  {
   "cell_type": "code",
   "execution_count": 2,
   "metadata": {},
   "outputs": [
    {
     "name": "stderr",
     "output_type": "stream",
     "text": [
      "Using cache found in C:\\Users\\JianQuan/.cache\\torch\\hub\\pytorch_vision_v0.10.0\n"
     ]
    },
    {
     "name": "stdout",
     "output_type": "stream",
     "text": [
      "<bound method Module.parameters of ResNet(\n",
      "  (conv1): Conv2d(1, 64, kernel_size=(7, 7), stride=(2, 2), padding=(3, 3), bias=False)\n",
      "  (bn1): BatchNorm2d(64, eps=1e-05, momentum=0.1, affine=True, track_running_stats=True)\n",
      "  (relu): ReLU(inplace=True)\n",
      "  (maxpool): MaxPool2d(kernel_size=3, stride=2, padding=1, dilation=1, ceil_mode=False)\n",
      "  (layer1): Sequential(\n",
      "    (0): BasicBlock(\n",
      "      (conv1): Conv2d(64, 64, kernel_size=(3, 3), stride=(1, 1), padding=(1, 1), bias=False)\n",
      "      (bn1): BatchNorm2d(64, eps=1e-05, momentum=0.1, affine=True, track_running_stats=True)\n",
      "      (relu): ReLU(inplace=True)\n",
      "      (conv2): Conv2d(64, 64, kernel_size=(3, 3), stride=(1, 1), padding=(1, 1), bias=False)\n",
      "      (bn2): BatchNorm2d(64, eps=1e-05, momentum=0.1, affine=True, track_running_stats=True)\n",
      "    )\n",
      "    (1): BasicBlock(\n",
      "      (conv1): Conv2d(64, 64, kernel_size=(3, 3), stride=(1, 1), padding=(1, 1), bias=False)\n",
      "      (bn1): BatchNorm2d(64, eps=1e-05, momentum=0.1, affine=True, track_running_stats=True)\n",
      "      (relu): ReLU(inplace=True)\n",
      "      (conv2): Conv2d(64, 64, kernel_size=(3, 3), stride=(1, 1), padding=(1, 1), bias=False)\n",
      "      (bn2): BatchNorm2d(64, eps=1e-05, momentum=0.1, affine=True, track_running_stats=True)\n",
      "    )\n",
      "  )\n",
      "  (layer2): Sequential(\n",
      "    (0): BasicBlock(\n",
      "      (conv1): Conv2d(64, 128, kernel_size=(3, 3), stride=(2, 2), padding=(1, 1), bias=False)\n",
      "      (bn1): BatchNorm2d(128, eps=1e-05, momentum=0.1, affine=True, track_running_stats=True)\n",
      "      (relu): ReLU(inplace=True)\n",
      "      (conv2): Conv2d(128, 128, kernel_size=(3, 3), stride=(1, 1), padding=(1, 1), bias=False)\n",
      "      (bn2): BatchNorm2d(128, eps=1e-05, momentum=0.1, affine=True, track_running_stats=True)\n",
      "      (downsample): Sequential(\n",
      "        (0): Conv2d(64, 128, kernel_size=(1, 1), stride=(2, 2), bias=False)\n",
      "        (1): BatchNorm2d(128, eps=1e-05, momentum=0.1, affine=True, track_running_stats=True)\n",
      "      )\n",
      "    )\n",
      "    (1): BasicBlock(\n",
      "      (conv1): Conv2d(128, 128, kernel_size=(3, 3), stride=(1, 1), padding=(1, 1), bias=False)\n",
      "      (bn1): BatchNorm2d(128, eps=1e-05, momentum=0.1, affine=True, track_running_stats=True)\n",
      "      (relu): ReLU(inplace=True)\n",
      "      (conv2): Conv2d(128, 128, kernel_size=(3, 3), stride=(1, 1), padding=(1, 1), bias=False)\n",
      "      (bn2): BatchNorm2d(128, eps=1e-05, momentum=0.1, affine=True, track_running_stats=True)\n",
      "    )\n",
      "  )\n",
      "  (layer3): Sequential(\n",
      "    (0): BasicBlock(\n",
      "      (conv1): Conv2d(128, 256, kernel_size=(3, 3), stride=(2, 2), padding=(1, 1), bias=False)\n",
      "      (bn1): BatchNorm2d(256, eps=1e-05, momentum=0.1, affine=True, track_running_stats=True)\n",
      "      (relu): ReLU(inplace=True)\n",
      "      (conv2): Conv2d(256, 256, kernel_size=(3, 3), stride=(1, 1), padding=(1, 1), bias=False)\n",
      "      (bn2): BatchNorm2d(256, eps=1e-05, momentum=0.1, affine=True, track_running_stats=True)\n",
      "      (downsample): Sequential(\n",
      "        (0): Conv2d(128, 256, kernel_size=(1, 1), stride=(2, 2), bias=False)\n",
      "        (1): BatchNorm2d(256, eps=1e-05, momentum=0.1, affine=True, track_running_stats=True)\n",
      "      )\n",
      "    )\n",
      "    (1): BasicBlock(\n",
      "      (conv1): Conv2d(256, 256, kernel_size=(3, 3), stride=(1, 1), padding=(1, 1), bias=False)\n",
      "      (bn1): BatchNorm2d(256, eps=1e-05, momentum=0.1, affine=True, track_running_stats=True)\n",
      "      (relu): ReLU(inplace=True)\n",
      "      (conv2): Conv2d(256, 256, kernel_size=(3, 3), stride=(1, 1), padding=(1, 1), bias=False)\n",
      "      (bn2): BatchNorm2d(256, eps=1e-05, momentum=0.1, affine=True, track_running_stats=True)\n",
      "    )\n",
      "  )\n",
      "  (layer4): Sequential(\n",
      "    (0): BasicBlock(\n",
      "      (conv1): Conv2d(256, 512, kernel_size=(3, 3), stride=(2, 2), padding=(1, 1), bias=False)\n",
      "      (bn1): BatchNorm2d(512, eps=1e-05, momentum=0.1, affine=True, track_running_stats=True)\n",
      "      (relu): ReLU(inplace=True)\n",
      "      (conv2): Conv2d(512, 512, kernel_size=(3, 3), stride=(1, 1), padding=(1, 1), bias=False)\n",
      "      (bn2): BatchNorm2d(512, eps=1e-05, momentum=0.1, affine=True, track_running_stats=True)\n",
      "      (downsample): Sequential(\n",
      "        (0): Conv2d(256, 512, kernel_size=(1, 1), stride=(2, 2), bias=False)\n",
      "        (1): BatchNorm2d(512, eps=1e-05, momentum=0.1, affine=True, track_running_stats=True)\n",
      "      )\n",
      "    )\n",
      "    (1): BasicBlock(\n",
      "      (conv1): Conv2d(512, 512, kernel_size=(3, 3), stride=(1, 1), padding=(1, 1), bias=False)\n",
      "      (bn1): BatchNorm2d(512, eps=1e-05, momentum=0.1, affine=True, track_running_stats=True)\n",
      "      (relu): ReLU(inplace=True)\n",
      "      (conv2): Conv2d(512, 512, kernel_size=(3, 3), stride=(1, 1), padding=(1, 1), bias=False)\n",
      "      (bn2): BatchNorm2d(512, eps=1e-05, momentum=0.1, affine=True, track_running_stats=True)\n",
      "    )\n",
      "  )\n",
      "  (avgpool): AdaptiveAvgPool2d(output_size=(1, 1))\n",
      "  (fc): Linear(in_features=512, out_features=10, bias=True)\n",
      ")>\n"
     ]
    }
   ],
   "source": [
    "device = torch.device(\"cuda:0\" if torch.cuda.is_available() else \"cpu\")\n",
    "\n",
    "model = torch.hub.load('pytorch/vision:v0.10.0', 'resnet18')\n",
    "model.conv1 = nn.Conv2d(1,\n",
    "                        64,\n",
    "                        kernel_size=(7, 7),\n",
    "                        stride=(2, 2),\n",
    "                        padding=(3, 3),\n",
    "                        bias=False)\n",
    "model.fc = nn.Linear(in_features=512, out_features=10, bias=True)\n",
    "model.load_state_dict(torch.load(\"./model/model_t4,f4,tf4_10.pt\", map_location=device))\n",
    "\n",
    "model = model.to(device)"
   ]
  },
  {
   "cell_type": "code",
   "execution_count": 36,
   "metadata": {},
   "outputs": [],
   "source": [
    "spec_test_dataset = datasets.DatasetFolder(\n",
    "    root='./UrbanSounds8K/spectrograms/test/',\n",
    "    loader=npy_loader,\n",
    "    extensions=['.npy'])\n",
    "\n",
    "test_dataloader = torch.utils.data.DataLoader(\n",
    "    spec_test_dataset,\n",
    "    batch_size=12,\n",
    "    num_workers=0,\n",
    "    shuffle=False,\n",
    ")"
   ]
  },
  {
   "cell_type": "code",
   "execution_count": 37,
   "metadata": {},
   "outputs": [
    {
     "data": {
      "text/plain": [
       "(tensor([[[ 1.9782e+00, -1.5946e+00, -3.4768e+00,  ..., -3.4739e-01,\n",
       "            3.9526e-01,  4.1237e-01],\n",
       "          [ 1.2299e-01,  4.8282e-01,  2.8185e-02,  ..., -1.1781e-02,\n",
       "            9.6032e-01, -1.5953e+00],\n",
       "          [-3.3370e+00, -1.7491e+00,  2.0831e-01,  ..., -2.3191e+00,\n",
       "           -2.1903e-01, -2.7251e+00],\n",
       "          ...,\n",
       "          [-2.0507e+01, -2.5279e+01, -2.7350e+01,  ..., -2.4447e+01,\n",
       "           -2.4473e+01, -2.7562e+01],\n",
       "          [-2.2551e+01, -2.3613e+01, -2.5989e+01,  ..., -2.9115e+01,\n",
       "           -2.3208e+01, -3.0218e+01],\n",
       "          [-2.6916e+01, -2.7990e+01, -3.0528e+01,  ..., -2.4957e+01,\n",
       "           -2.3403e+01, -3.1538e+01]]]),\n",
       " 0)"
      ]
     },
     "execution_count": 37,
     "metadata": {},
     "output_type": "execute_result"
    }
   ],
   "source": [
    "next(iter(spec_test_dataset))"
   ]
  },
  {
   "cell_type": "code",
   "execution_count": 38,
   "metadata": {},
   "outputs": [
    {
     "name": "stdout",
     "output_type": "stream",
     "text": [
      "Test loss: 0.007333646111163615\n",
      "Test accuracy: 0.0%\n"
     ]
    }
   ],
   "source": [
    "test_size = len(test_dataloader.dataset)\n",
    "total_batch = len(test_dataloader)\n",
    "test_loss, test_accuracy = 0, 0\n",
    "\n",
    "model.eval()\n",
    "\n",
    "cost = torch.nn.CrossEntropyLoss()\n",
    "\n",
    "with torch.no_grad():\n",
    "    for batch, (X, Y) in enumerate(test_dataloader):        \n",
    "        if batch == 0:\n",
    "            X, Y = X.to(device), Y.to(device)\n",
    "            pred = model(X)\n",
    "            batch_loss = cost(pred, Y)\n",
    "            batch_accuracy = (pred.argmax(1) == Y).type(torch.float).sum()\n",
    "            test_loss += batch_loss.item()\n",
    "            test_accuracy += batch_accuracy.item()\n",
    "            first_batch_y = Y\n",
    "            first_batch_p = pred.argmax(1)\n",
    "\n",
    "\n",
    "test_loss /= test_size\n",
    "test_accuracy /= test_size/100\n",
    "\n",
    "print(f\"Test loss: {test_loss}\")\n",
    "print(f\"Test accuracy: {test_accuracy}%\")"
   ]
  },
  {
   "cell_type": "code",
   "execution_count": 30,
   "metadata": {},
   "outputs": [
    {
     "data": {
      "text/plain": [
       "tensor([2, 2, 2, 2, 2, 2, 2, 2, 2, 2, 2, 2, 2, 2, 2, 2, 2, 2, 2, 2, 2, 2, 2, 2,\n",
       "        2, 2, 2, 2, 0, 0, 0, 0, 0, 0, 0, 0, 0, 0, 0, 0, 0, 5, 5, 5, 5, 5, 0, 5,\n",
       "        5, 5, 5, 0, 0, 2, 0, 0, 0, 0, 0, 0, 5, 2, 2, 2])"
      ]
     },
     "execution_count": 30,
     "metadata": {},
     "output_type": "execute_result"
    }
   ],
   "source": [
    "pred.argmax(1)"
   ]
  },
  {
   "cell_type": "code",
   "execution_count": null,
   "metadata": {},
   "outputs": [],
   "source": [
    "for i in range(len(first_batch)):\n",
    "    title\n",
    "    writer.add_audio(\n",
    "        f'Test/({test_dataset[i][2]})A:{class_map[first_batch_y[i].item()]} P:{class_map[first_batch_p[i].item()]}',\n",
    "        test_dataset[i][0], 44100)"
   ]
  },
  {
   "cell_type": "code",
   "execution_count": null,
   "metadata": {},
   "outputs": [],
   "source": [
    "for i, randIndex in enumerate(randIndex_list):\n",
    "    waveform, class_id, title = test_dataset[randIndex]\n",
    "    spectrogram_tensor = (spectrogram(waveform) + 1e-12).log2()\n",
    "\n",
    "\n",
    "    with torch.no_grad():\n",
    "        model.eval()\n",
    "        output = model(torch.reshape(spectrogram_tensor, (-1,1)))\n",
    "    writer.add_audio(\n",
    "        f'Test/({title})A:{class_map[class_id]} P:{class_map[output]}',\n",
    "        waveform, 44100)\n",
    "\n",
    "writer.close()"
   ]
  }
 ],
 "metadata": {
  "kernelspec": {
   "display_name": "Python 3.10.7 64-bit (microsoft store)",
   "language": "python",
   "name": "python3"
  },
  "language_info": {
   "codemirror_mode": {
    "name": "ipython",
    "version": 3
   },
   "file_extension": ".py",
   "mimetype": "text/x-python",
   "name": "python",
   "nbconvert_exporter": "python",
   "pygments_lexer": "ipython3",
   "version": "3.10.7"
  },
  "orig_nbformat": 4,
  "vscode": {
   "interpreter": {
    "hash": "9e87201990ab3ef9f8e8015a432b605669f23d2887f787d8acc74a222f9112d5"
   }
  }
 },
 "nbformat": 4,
 "nbformat_minor": 2
}

{
 "cells": [
  {
   "cell_type": "code",
   "execution_count": null,
   "metadata": {},
   "outputs": [],
   "source": [
    "from configparser import ConfigParser\n",
    "\n",
    "config = ConfigParser()\n",
    "config.read('config.ini')\n",
    "\n",
    "int(config['augmentations']['sample_rate'])"
   ]
  },
  {
   "cell_type": "code",
   "execution_count": 1,
   "metadata": {},
   "outputs": [
    {
     "name": "stderr",
     "output_type": "stream",
     "text": [
      "C:\\Users\\Jian Quan\\AppData\\Local\\Packages\\PythonSoftwareFoundation.Python.3.10_qbz5n2kfra8p0\\LocalCache\\local-packages\\Python310\\site-packages\\tqdm\\auto.py:22: TqdmWarning: IProgress not found. Please update jupyter and ipywidgets. See https://ipywidgets.readthedocs.io/en/stable/user_install.html\n",
      "  from .autonotebook import tqdm as notebook_tqdm\n",
      "Using cache found in C:\\Users\\Jian Quan/.cache\\torch\\hub\\pytorch_vision_v0.10.0\n"
     ]
    },
    {
     "name": "stdout",
     "output_type": "stream",
     "text": [
      "[0] saved_model\\Augmentations8K.pt\n",
      "[1] saved_model\\NoAugmentations44K.pt\n",
      "[2] saved_model\\NoAugmentations44K_cp1.pt\n",
      "[3] saved_model\\NoAugmentations8K.pt\n"
     ]
    }
   ],
   "source": [
    "from model import ResNet18\n",
    "import torch, torchaudio\n",
    "from AudioDataset import AudioDataset\n",
    "from pathlib import Path\n",
    "# load back the model\n",
    "device = torch.device(\"cuda\" if torch.cuda.is_available() else \"cpu\")\n",
    "cnn = ResNet18.to(device)\n",
    "\n",
    "model_paths = [str(p) for p in Path('./saved_model/').glob(f'*.pt')]\n",
    "for i, model_path in enumerate(model_paths):\n",
    "    print(f'[{i}] {model_path}')\n",
    "\n",
    "path = model_paths[int(input('Select saved model > '))]\n",
    "state_dict = torch.load(path, map_location=device)['model_state_dict']\n",
    "cnn.load_state_dict(state_dict)\n",
    "\n",
    "torch.save(cnn, './saved_model/NoAugmentations44K.pt')\n"
   ]
  },
  {
   "cell_type": "code",
   "execution_count": null,
   "metadata": {},
   "outputs": [],
   "source": [
    "import matplotlib.pyplot as plt\n",
    "dataset = AudioDataset(['test/ac.wav'])\n",
    "testData = torch.unsqueeze(dataset[0][0], 0)\n",
    "plt.imshow(testData[0][0])"
   ]
  },
  {
   "cell_type": "code",
   "execution_count": null,
   "metadata": {},
   "outputs": [],
   "source": [
    "import matplotlib.pyplot as plt\n",
    "import Augmentation\n",
    "from AudioDataset import AudioDataset\n",
    "import torch\n",
    "from configparser import ConfigParser\n",
    "config = ConfigParser()\n",
    "config.read('config.ini')\n",
    "\n",
    "\n",
    "audio_paths = Augmentation.getAudio('./data/testset')\n",
    "audio_test_dataset = AudioDataset(audio_paths)\n",
    "\n",
    "train_dataloader = torch.utils.data.DataLoader(\n",
    "    audio_test_dataset,\n",
    "    batch_size=int(config['model']['batch_size']),\n",
    "    num_workers=int(config['model']['num_workers']),\n",
    "    shuffle=True,\n",
    "    pin_memory=True,\n",
    ")\n"
   ]
  }
 ],
 "metadata": {
  "kernelspec": {
   "display_name": "Python 3.10.8 64-bit (microsoft store)",
   "language": "python",
   "name": "python3"
  },
  "language_info": {
   "codemirror_mode": {
    "name": "ipython",
    "version": 3
   },
   "file_extension": ".py",
   "mimetype": "text/x-python",
   "name": "python",
   "nbconvert_exporter": "python",
   "pygments_lexer": "ipython3",
   "version": "3.10.8"
  },
  "vscode": {
   "interpreter": {
    "hash": "e0acaf148705ed9ed86cc5cad12259d7985e30670e5686e5f55604a9b3b84a55"
   }
  }
 },
 "nbformat": 4,
 "nbformat_minor": 4
}

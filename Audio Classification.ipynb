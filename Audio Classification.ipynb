{
    "cells": [
        {
            "cell_type": "markdown",
            "metadata": {
                "id": "OksgqWXLlGzx"
            },
            "source": [
                "**Actual Machine Learning**"
            ]
        },
        {
            "cell_type": "code",
            "execution_count": 2,
            "metadata": {
                "id": "-XHxisXgPOeN"
            },
            "outputs": [],
            "source": [
                "import torch\n",
                "import torch.nn as nn\n",
                "from torchvision import datasets\n",
                "import numpy as np\n",
                "from torch.utils.data import Dataset, DataLoader\n",
                "from datetime import datetime\n",
                "import os\n",
                "import time\n",
                "from torch.utils.tensorboard import SummaryWriter\n",
                "\n",
                "def npy_loader(path):\n",
                "    return torch.from_numpy(np.load(path))\n",
                "\n",
                "def train(dataloader, model, optimizer):\n",
                "    train_size = len(dataloader.dataset)\n",
                "    batch_size = len(next(iter(dataloader))[1])\n",
                "    total_batch = len(dataloader)\n",
                "    train_loss, train_accuracy = 0, 0\n",
                "\n",
                "    model.train()\n",
                "\n",
                "    for batch, (X, Y) in enumerate(dataloader):\n",
                "        X, Y = X.to(device), Y.to(device)\n",
                "        optimizer.zero_grad()\n",
                "        pred = model(X)\n",
                "        batch_loss = cost(pred, Y)\n",
                "        batch_loss.backward()\n",
                "        optimizer.step()\n",
                "        batch_accuracy = (pred.argmax(1)==Y).type(torch.float).sum()\n",
                "        train_loss += batch_loss.item()\n",
                "        train_accuracy += batch_accuracy.item()\n",
                "        if batch % 100 == 0:\n",
                "            print(\n",
                "                f\"Training batch {batch}/{total_batch} -> Loss: {batch_loss.item()}  Accuracy: {batch_accuracy.item()/batch_size*100}%\"\n",
                "            )\n",
                "    train_loss /= train_size\n",
                "    train_accuracy /= train_size/100\n",
                "    return(train_loss, train_accuracy)\n",
                "\n",
                "def val(dataloader, model):\n",
                "    val_size = len(dataloader.dataset)\n",
                "    total_batch = len(dataloader)\n",
                "    val_loss, val_accuracy = 0, 0\n",
                "\n",
                "    model.eval()\n",
                "\n",
                "    with torch.no_grad():\n",
                "        for batch, (X, Y) in enumerate(dataloader):\n",
                "            X, Y = X.to(device), Y.to(device)\n",
                "            pred = model(X)\n",
                "            batch_loss = cost(pred, Y)\n",
                "            batch_accuracy = (pred.argmax(1)==Y).type(torch.float).sum()\n",
                "            val_loss += batch_loss.item()\n",
                "            val_accuracy += batch_accuracy.item()\n",
                "        if batch % 10 == 0:\n",
                "            print(\n",
                "                f\"Validation batch {batch}/{total_batch} -> Loss: {batch_loss.item()}  Accuracy: {batch_accuracy.item()/batch_size*100}%\"\n",
                "            )\n",
                "\n",
                "    val_loss /= val_size\n",
                "    val_accuracy /= val_size/100\n",
                "    return(val_loss, val_accuracy)\n",
                "\n",
                "def tensorBoardLogging(train_loss, train_accuracy, val_loss, val_accuracy,\n",
                "                       epoch):\n",
                "    writer.add_scalar('1 Training/1 Model loss', train_loss, epoch)\n",
                "    writer.add_scalar('1 Training/2 Model accuracy', train_accuracy, epoch)\n",
                "    writer.add_scalar('2 Validate/1 Model loss', val_loss, epoch)\n",
                "    writer.add_scalar('2 Validate/2 Model accuracy', val_accuracy, epoch)\n",
                "    writer.close()\n"
            ]
        },
        {
            "cell_type": "code",
            "execution_count": 5,
            "metadata": {
                "colab": {
                    "base_uri": "https://localhost:8080/"
                },
                "id": "VHCkJ1iPqSiu",
                "outputId": "e4d42133-d1b6-4ae9-82ab-71efab8aa770"
            },
            "outputs": [
                {
                    "name": "stdout",
                    "output_type": "stream",
                    "text": [
                        "Training size: 9074\n",
                        "Validation size: 125\n"
                    ]
                },
                {
                    "name": "stderr",
                    "output_type": "stream",
                    "text": [
                        "Using cache found in C:\\Users\\jianq/.cache\\torch\\hub\\pytorch_vision_v0.10.0\n"
                    ]
                },
                {
                    "data": {
                        "text/plain": [
                            "device(type='cpu')"
                        ]
                    },
                    "execution_count": 5,
                    "metadata": {},
                    "output_type": "execute_result"
                }
            ],
            "source": [
                "audio_train_dataset = datasets.DatasetFolder(root='./UrbanSounds8K/spectrograms/train/',\n",
                "                                       loader=npy_loader,\n",
                "                                       extensions=['.npy'])\n",
                "\n",
                "audio_val_dataset = datasets.DatasetFolder(root='./UrbanSounds8K/spectrograms/val/',\n",
                "                                       loader=npy_loader,\n",
                "                                       extensions=['.npy'])\n",
                "\n",
                "print(\"Training size:\", len(audio_train_dataset))\n",
                "print(\"Validation size:\",len(audio_val_dataset))\n",
                "\n",
                "train_dataloader = torch.utils.data.DataLoader(audio_train_dataset,\n",
                "                                               batch_size=4,\n",
                "                                               num_workers=0,\n",
                "                                               shuffle=True)\n",
                "\n",
                "val_dataloader = torch.utils.data.DataLoader(audio_val_dataset,\n",
                "                                              batch_size=4,\n",
                "                                              num_workers=0,\n",
                "                                              shuffle=True,\n",
                "                                             )\n",
                "\n",
                "\n",
                "\n",
                "model = torch.hub.load('pytorch/vision:v0.10.0', 'resnet18')\n",
                "\n",
                "model.conv1 = nn.Conv2d(1,\n",
                "                        64,\n",
                "                        kernel_size=(7, 7),\n",
                "                        stride=(2, 2),\n",
                "                        padding=(3, 3),\n",
                "                        bias=False)\n",
                "                        \n",
                "model.fc = nn.Linear(in_features=512, out_features=10, bias=True)\n",
                "\n",
                "device = torch.device(\"cuda:0\" if torch.cuda.is_available() else \"cpu\")\n",
                "model = model.to(device)\n",
                "\n",
                "# Check that it is on Cuda\n",
                "next(model.parameters()).device"
            ]
        },
        {
            "cell_type": "code",
            "execution_count": 3,
            "metadata": {
                "id": "-MJQlAMOlfMn"
            },
            "outputs": [],
            "source": [
                "# rm -rf ./logsdir/ # remove all logs"
            ]
        },
        {
            "cell_type": "markdown",
            "metadata": {
                "id": "4aFppr-urj8t"
            },
            "source": [
                "Tensorboard model graph"
            ]
        },
        {
            "cell_type": "code",
            "execution_count": 6,
            "metadata": {
                "id": "bQEUozxSkwc9"
            },
            "outputs": [],
            "source": [
                "title = datetime.now().strftime(\"%Y-%m-%d,%H-%M-%S\")\n",
                "title=\"freqTimeFulldataset10out2\"\n",
                "spec, label = next(iter(train_dataloader))\n",
                "writer = SummaryWriter(f'./logs/{title}')\n",
                "writer.add_graph(model, spec.to(device))\n",
                "writer.close()"
            ]
        },
        {
            "cell_type": "code",
            "execution_count": 7,
            "metadata": {
                "id": "aVrAKQinQfWA"
            },
            "outputs": [],
            "source": [
                "cost = torch.nn.CrossEntropyLoss()\n",
                "learning_rate = 0.001\n",
                "optimizer = torch.optim.Adam(model.parameters(), lr=learning_rate)"
            ]
        },
        {
            "cell_type": "code",
            "execution_count": 8,
            "metadata": {},
            "outputs": [
                {
                    "data": {
                        "text/plain": [
                            "<All keys matched successfully>"
                        ]
                    },
                    "execution_count": 8,
                    "metadata": {},
                    "output_type": "execute_result"
                }
            ],
            "source": [
                "model.load_state_dict(\n",
                "    torch.load(\"./model/model_t4,f4,tf4_10.pt\", map_location=device))"
            ]
        },
        {
            "cell_type": "code",
            "execution_count": 9,
            "metadata": {
                "colab": {
                    "base_uri": "https://localhost:8080/",
                    "height": 432
                },
                "id": "obI3fgwAQhLP",
                "outputId": "8df092c6-e4c0-46f0-fcc8-fb2e7903291a"
            },
            "outputs": [
                {
                    "name": "stdout",
                    "output_type": "stream",
                    "text": [
                        "Epoch 1/1\n",
                        "-------------------------------\n",
                        "Training batch 0/2269 -> Loss: 6.469829559326172  Accuracy: 0.0%\n"
                    ]
                },
                {
                    "ename": "KeyboardInterrupt",
                    "evalue": "",
                    "output_type": "error",
                    "traceback": [
                        "\u001b[1;31m---------------------------------------------------------------------------\u001b[0m",
                        "\u001b[1;31mKeyboardInterrupt\u001b[0m                         Traceback (most recent call last)",
                        "Cell \u001b[1;32mIn [9], line 5\u001b[0m\n\u001b[0;32m      3\u001b[0m \u001b[38;5;28mprint\u001b[39m(\u001b[38;5;124mf\u001b[39m\u001b[38;5;124m'\u001b[39m\u001b[38;5;124mEpoch \u001b[39m\u001b[38;5;132;01m{\u001b[39;00mepoch\u001b[38;5;241m+\u001b[39m\u001b[38;5;241m1\u001b[39m\u001b[38;5;132;01m}\u001b[39;00m\u001b[38;5;124m/\u001b[39m\u001b[38;5;132;01m{\u001b[39;00mepochs\u001b[38;5;132;01m}\u001b[39;00m\u001b[38;5;130;01m\\n\u001b[39;00m\u001b[38;5;124m-------------------------------\u001b[39m\u001b[38;5;124m'\u001b[39m)\n\u001b[0;32m      4\u001b[0m start \u001b[38;5;241m=\u001b[39m time\u001b[38;5;241m.\u001b[39mtime()\n\u001b[1;32m----> 5\u001b[0m train_loss, train_accuracy \u001b[38;5;241m=\u001b[39m \u001b[43mtrain\u001b[49m\u001b[43m(\u001b[49m\u001b[43mtrain_dataloader\u001b[49m\u001b[43m,\u001b[49m\u001b[43m \u001b[49m\u001b[43mmodel\u001b[49m\u001b[43m,\u001b[49m\u001b[43m \u001b[49m\u001b[43moptimizer\u001b[49m\u001b[43m)\u001b[49m\n\u001b[0;32m      6\u001b[0m val_loss, val_accuracy \u001b[38;5;241m=\u001b[39m val(val_dataloader, model)\n\u001b[0;32m      7\u001b[0m end \u001b[38;5;241m=\u001b[39m time\u001b[38;5;241m.\u001b[39mtime()\n",
                        "Cell \u001b[1;32mIn [2], line 27\u001b[0m, in \u001b[0;36mtrain\u001b[1;34m(dataloader, model, optimizer)\u001b[0m\n\u001b[0;32m     25\u001b[0m pred \u001b[38;5;241m=\u001b[39m model(X)\n\u001b[0;32m     26\u001b[0m batch_loss \u001b[38;5;241m=\u001b[39m cost(pred, Y)\n\u001b[1;32m---> 27\u001b[0m \u001b[43mbatch_loss\u001b[49m\u001b[38;5;241;43m.\u001b[39;49m\u001b[43mbackward\u001b[49m\u001b[43m(\u001b[49m\u001b[43m)\u001b[49m\n\u001b[0;32m     28\u001b[0m optimizer\u001b[38;5;241m.\u001b[39mstep()\n\u001b[0;32m     29\u001b[0m batch_accuracy \u001b[38;5;241m=\u001b[39m (pred\u001b[38;5;241m.\u001b[39margmax(\u001b[38;5;241m1\u001b[39m)\u001b[38;5;241m==\u001b[39mY)\u001b[38;5;241m.\u001b[39mtype(torch\u001b[38;5;241m.\u001b[39mfloat)\u001b[38;5;241m.\u001b[39msum()\n",
                        "File \u001b[1;32mc:\\Python310\\lib\\site-packages\\torch\\_tensor.py:396\u001b[0m, in \u001b[0;36mTensor.backward\u001b[1;34m(self, gradient, retain_graph, create_graph, inputs)\u001b[0m\n\u001b[0;32m    387\u001b[0m \u001b[39mif\u001b[39;00m has_torch_function_unary(\u001b[39mself\u001b[39m):\n\u001b[0;32m    388\u001b[0m     \u001b[39mreturn\u001b[39;00m handle_torch_function(\n\u001b[0;32m    389\u001b[0m         Tensor\u001b[39m.\u001b[39mbackward,\n\u001b[0;32m    390\u001b[0m         (\u001b[39mself\u001b[39m,),\n\u001b[1;32m   (...)\u001b[0m\n\u001b[0;32m    394\u001b[0m         create_graph\u001b[39m=\u001b[39mcreate_graph,\n\u001b[0;32m    395\u001b[0m         inputs\u001b[39m=\u001b[39minputs)\n\u001b[1;32m--> 396\u001b[0m torch\u001b[39m.\u001b[39;49mautograd\u001b[39m.\u001b[39;49mbackward(\u001b[39mself\u001b[39;49m, gradient, retain_graph, create_graph, inputs\u001b[39m=\u001b[39;49minputs)\n",
                        "File \u001b[1;32mc:\\Python310\\lib\\site-packages\\torch\\autograd\\__init__.py:173\u001b[0m, in \u001b[0;36mbackward\u001b[1;34m(tensors, grad_tensors, retain_graph, create_graph, grad_variables, inputs)\u001b[0m\n\u001b[0;32m    168\u001b[0m     retain_graph \u001b[39m=\u001b[39m create_graph\n\u001b[0;32m    170\u001b[0m \u001b[39m# The reason we repeat same the comment below is that\u001b[39;00m\n\u001b[0;32m    171\u001b[0m \u001b[39m# some Python versions print out the first line of a multi-line function\u001b[39;00m\n\u001b[0;32m    172\u001b[0m \u001b[39m# calls in the traceback and some print out the last line\u001b[39;00m\n\u001b[1;32m--> 173\u001b[0m Variable\u001b[39m.\u001b[39;49m_execution_engine\u001b[39m.\u001b[39;49mrun_backward(  \u001b[39m# Calls into the C++ engine to run the backward pass\u001b[39;49;00m\n\u001b[0;32m    174\u001b[0m     tensors, grad_tensors_, retain_graph, create_graph, inputs,\n\u001b[0;32m    175\u001b[0m     allow_unreachable\u001b[39m=\u001b[39;49m\u001b[39mTrue\u001b[39;49;00m, accumulate_grad\u001b[39m=\u001b[39;49m\u001b[39mTrue\u001b[39;49;00m)\n",
                        "\u001b[1;31mKeyboardInterrupt\u001b[0m: "
                    ]
                }
            ],
            "source": [
                "epochs = 1\n",
                "for epoch in range(epochs):\n",
                "    print(f'Epoch {epoch+1}/{epochs}\\n-------------------------------')\n",
                "    start = time.time()\n",
                "    train_loss, train_accuracy = train(train_dataloader, model, optimizer)\n",
                "    val_loss, val_accuracy = val(val_dataloader, model)\n",
                "    end = time.time()\n",
                "    print(f\"\\nEpoch duration: {end - start} seconds\")\n",
                "    print(f'Training | Loss: {train_loss} Accuracy: {train_accuracy}%')\n",
                "    print(f'Validating  | Loss: {val_loss} Accuracy: {val_accuracy}% \\n')\n",
                "    tensorBoardLogging(train_loss, train_accuracy, val_loss, val_accuracy, epoch)\n",
                "\n",
                "print('Done!')"
            ]
        },
        {
            "cell_type": "code",
            "execution_count": 9,
            "metadata": {},
            "outputs": [],
            "source": [
                "val_loss, val_accuracy = val(val_dataloader, model)"
            ]
        },
        {
            "cell_type": "code",
            "execution_count": null,
            "metadata": {},
            "outputs": [],
            "source": [
                "torch.save(model.state_dict(), f\"./model/model_t4,f4,tf4.pt\")"
            ]
        },
        {
            "cell_type": "markdown",
            "metadata": {
                "id": "DIAP8Nvg88ag"
            },
            "source": [
                "**Debugging**"
            ]
        },
        {
            "cell_type": "code",
            "execution_count": null,
            "metadata": {
                "colab": {
                    "base_uri": "https://localhost:8080/"
                },
                "id": "RumP79RPD4v6",
                "outputId": "158f193d-1fbe-4000-90b8-97bb285389bc"
            },
            "outputs": [],
            "source": [
                "\n",
                "# audio_dataset = []\n",
                "# sum = 0\n",
                "\n",
                "# main_path = './UrbanSounds8K/spectrograms/'\n",
                "\n",
                "# dir = [str(p) for p in Path(main_path).glob('*')]\n",
                "# for path in dir:\n",
                "#   print('Loading: '+ path)\n",
                "#   num = len([str(p) for p in Path(path).glob('*')])\n",
                "#   sum += num\n",
                "#   print(num)\n",
                "\n",
                "# sum"
            ]
        }
    ],
    "metadata": {
        "accelerator": "GPU",
        "colab": {
            "collapsed_sections": [],
            "provenance": []
        },
        "kernelspec": {
            "display_name": "Python 3.10.6 64-bit",
            "language": "python",
            "name": "python3"
        },
        "language_info": {
            "codemirror_mode": {
                "name": "ipython",
                "version": 3
            },
            "file_extension": ".py",
            "mimetype": "text/x-python",
            "name": "python",
            "nbconvert_exporter": "python",
            "pygments_lexer": "ipython3",
            "version": "3.10.6"
        },
        "vscode": {
            "interpreter": {
                "hash": "369f2c481f4da34e4445cda3fffd2e751bd1c4d706f27375911949ba6bb62e1c"
            }
        }
    },
    "nbformat": 4,
    "nbformat_minor": 4
}

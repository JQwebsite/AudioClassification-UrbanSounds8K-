{
    "cells": [
        {
            "cell_type": "markdown",
            "metadata": {
                "id": "NcmtmsaxbwTy"
            },
            "source": [
                "**Download dataset from Kaggle**"
            ]
        },
        {
            "cell_type": "code",
            "execution_count": 4,
            "metadata": {
                "colab": {
                    "base_uri": "https://localhost:8080/",
                    "height": 1000
                },
                "id": "gmWyqTs98kyQ",
                "outputId": "530bcedc-551f-4ee9-f4e2-018ce6093e41"
            },
            "outputs": [],
            "source": [
                "# from google.colab import files\n",
                "# files.upload()\n",
                "# ! pip install -q kaggle\n",
                "# ! mkdir ~/.kaggle\n",
                "# ! cp kaggle.json ~/.kaggle/\n",
                "# ! chmod 600 ~/.kaggle/kaggle.json\n",
                "# ! kaggle datasets download -d chrisfilo/urbansound8k\n",
                "# ! unzip urbansound8k.zip -d UrbanSounds8K"
            ]
        },
        {
            "cell_type": "markdown",
            "metadata": {
                "id": "tmVjVvU3cYGZ"
            },
            "source": [
                "**Inspect the audio files**"
            ]
        },
        {
            "cell_type": "code",
            "execution_count": 5,
            "metadata": {
                "id": "WP4iapU3B5dH"
            },
            "outputs": [],
            "source": [
                "import os\n",
                "import ipytest\n",
                "import matplotlib.pyplot as plt\n",
                "import IPython.display as ipd\n",
                "import random\n",
                "from torch.utils.data import DataLoader\n",
                "import torch\n",
                "import torchaudio\n",
                "import torch.nn as nn\n",
                "import torch.nn.functional as F\n",
                "import torch.optim as optim\n",
                "import numpy as np\n",
                "from torch.utils.data import Dataset, DataLoader\n",
                "from torchvision import datasets, models, transforms\n",
                "import ipytest\n",
                "from pathlib import Path\n",
                "ipytest.autoconfig()"
            ]
        },
        {
            "cell_type": "code",
            "execution_count": 6,
            "metadata": {
                "id": "huXMRna2t-YC"
            },
            "outputs": [],
            "source": [
                "    def pad_trunc(aud, max_ms):\n",
                "        sig, sr = aud\n",
                "        num_rows, sig_len = sig.shape\n",
                "        max_len = int(sr/1000 * max_ms)\n",
                "\n",
                "        if (sig_len > max_len):\n",
                "            # Truncate the signal to the given length\n",
                "            sig = sig[:,:max_len]\n",
                "\n",
                "        elif (sig_len < max_len):\n",
                "            # Length of padding to add at the beginning and end of the signal\n",
                "            pad_begin_len = random.randint(0, max_len - sig_len)\n",
                "            pad_end_len = max_len - sig_len - pad_begin_len\n",
                "\n",
                "            # Pad with 0s\n",
                "            pad_begin = torch.zeros((num_rows, pad_begin_len))\n",
                "            pad_end = torch.zeros((num_rows, pad_end_len))\n",
                "\n",
                "            sig = torch.cat((pad_begin, sig, pad_end), 1)\n",
                "        return (sig, sr)\n",
                "\n",
                "    def rechannel(aud, new_channel):\n",
                "        sig, sr = aud\n",
                "\n",
                "        if (sig.shape[0] == new_channel):\n",
                "            # Nothing to do\n",
                "            return aud\n",
                "\n",
                "        elif (new_channel == 1):\n",
                "            # Convert from stereo to mono by selecting only the first channel\n",
                "            resig = sig[:1, :]\n",
                "        else:\n",
                "            # Convert from mono to stereo by duplicating the first channel\n",
                "            resig = torch.cat([sig, sig])\n",
                "        return ((resig, sr))\n",
                "\n",
                "    def resample(aud, newsr):\n",
                "        sig, sr = aud\n",
                "\n",
                "        if (sr == newsr):\n",
                "            # Nothing to do\n",
                "            return aud\n",
                "\n",
                "        num_channels = sig.shape[0]\n",
                "        # Resample first channel\n",
                "        resig = torchaudio.transforms.Resample(sr, newsr)(sig[:1,:])\n",
                "        if (num_channels > 1):\n",
                "            # Resample the second channel and merge both channels\n",
                "            retwo = torchaudio.transforms.Resample(sr, newsr)(sig[1:,:])\n",
                "            resig = torch.cat([resig, retwo])\n",
                "        return ((resig, newsr))\n",
                "\n",
                "    def show_spectrogram(audio):\n",
                "      spectrogram = torchaudio.transforms.Spectrogram()(audio)[0]\n",
                "      print(\"\\nShape of spectrogram: {}\".format(spectrogram.size()))\n",
                "      plt.imshow(spectrogram.log2().numpy(), cmap='viridis', origin='lower')\n",
                "      plt.show()"
            ]
        },
        {
            "cell_type": "code",
            "execution_count": 7,
            "metadata": {},
            "outputs": [
                {
                    "name": "stdout",
                    "output_type": "stream",
                    "text": [
                        "\u001b[32m.\u001b[0m\u001b[32m.\u001b[0m\u001b[32m.\u001b[0m\u001b[32m.\u001b[0m\u001b[32m                                                                                         [100%]\u001b[0m\n",
                        "\u001b[32m\u001b[32m\u001b[1m4 passed\u001b[0m\u001b[32m in 0.06s\u001b[0m\u001b[0m\n"
                    ]
                }
            ],
            "source": [
                "%%ipytest\n",
                "\n",
                "def test_load():\n",
                "    walker = sorted(str(p) for p in Path(\"./test/\").glob(f'*.wav'))\n",
                "    for i, file_path in enumerate(walker):\n",
                "        assert torchaudio.load(file_path) \n",
                "\n",
                "def test_pad_trunc():\n",
                "    target_length = 4\n",
                "    assert len(pad_trunc(torchaudio.load('./test/1_44100_0830.wav'), target_length * 1000)[0][0]) == 44100*target_length\n",
                "    assert len(pad_trunc(torchaudio.load('./test/2_44100_2250.wav'), target_length * 1000)[0][0]) == 44100*target_length\n",
                "    assert len(pad_trunc(torchaudio.load('./test/2_44100_4000.wav'), target_length * 1000)[0][0]) == 44100*target_length\n",
                "\n",
                "def test_rechannel():\n",
                "    target_channel = 1\n",
                "    assert rechannel(torchaudio.load('./test/1_44100_0830.wav'), target_channel)[0].shape[0] == target_channel\n",
                "    assert rechannel(torchaudio.load('./test/2_44100_4000.wav'), target_channel)[0].shape[0] == target_channel\n",
                "\n",
                "def test_resample():\n",
                "    target_sr = 44100\n",
                "    assert len(resample(torchaudio.load('./test/1_11025_4000.wav'), target_sr)[0][0]) == 4*target_sr\n",
                "    assert len(resample(torchaudio.load('./test/1_44100_0830.wav'), target_sr)[0][0]) == 0.830*target_sr\n",
                "    assert len(resample(torchaudio.load('./test/1_96000_0310.wav'), target_sr)[0][0]) == 0.310*target_sr\n"
            ]
        },
        {
            "cell_type": "markdown",
            "metadata": {
                "id": "C1W6OFH5xYDJ"
            },
            "source": [
                "**Original Audio**"
            ]
        },
        {
            "cell_type": "code",
            "execution_count": 8,
            "metadata": {
                "colab": {
                    "base_uri": "https://localhost:8080/",
                    "height": 286
                },
                "id": "pFJgdpckbhB5",
                "outputId": "c4236b0e-ef4d-4c76-f349-e62df95ec4dd"
            },
            "outputs": [],
            "source": [
                "# filename = \"./UrbanSounds8K/fold1/102305-6-0-0.wav\"\n",
                "# waveform, sample_rate = rechannel(torchaudio.load(filename), 1)\n",
                "# fig, axs = plt.subplots(2)\n",
                "# axs[0].plot(waveform.t().numpy())\n",
                "# show_spectrogram(waveform)"
            ]
        },
        {
            "cell_type": "markdown",
            "metadata": {
                "id": "O7plnCUzxb0X"
            },
            "source": [
                "**Extended Audio**"
            ]
        },
        {
            "cell_type": "code",
            "execution_count": 9,
            "metadata": {
                "colab": {
                    "base_uri": "https://localhost:8080/",
                    "height": 315
                },
                "id": "hGPQRvaPu5M5",
                "outputId": "44b74d4f-5844-4318-c19d-bcdb62148867"
            },
            "outputs": [],
            "source": [
                "# waveform, sr = pad_trunc(rechannel(torchaudio.load(filename),1), 4000)\n",
                "# fig, axs = plt.subplots(2)\n",
                "# axs[0].plot(waveform.t().numpy())\n",
                "# show_spectrogram(waveform)"
            ]
        },
        {
            "cell_type": "code",
            "execution_count": 10,
            "metadata": {
                "colab": {
                    "base_uri": "https://localhost:8080/",
                    "height": 75
                },
                "id": "BRHwD2GXt5I-",
                "outputId": "b861dfb2-0fcb-4d18-f807-e5e258f6fbfb"
            },
            "outputs": [],
            "source": [
                "# ipd.Audio(waveform.numpy(), rate=sample_rate)"
            ]
        },
        {
            "cell_type": "markdown",
            "metadata": {
                "id": "r3dTkfPTe2zM"
            },
            "source": [
                "**Generate Spectrogram**"
            ]
        },
        {
            "cell_type": "code",
            "execution_count": 11,
            "metadata": {
                "id": "SPmSPvC_fCnw"
            },
            "outputs": [],
            "source": [
                "import os\n",
                "import torch\n",
                "import torchaudio\n",
                "# import matplotlib.pyplot as plt\n",
                "from torch.utils.data import Dataset, DataLoader\n",
                "from pathlib import Path\n",
                "from PIL import Image"
            ]
        },
        {
            "cell_type": "code",
            "execution_count": 12,
            "metadata": {
                "id": "vuz6GrNgpT4h"
            },
            "outputs": [],
            "source": [
                "class_map = ['air conditioner', 'car horn', 'children playing', 'dog bark', 'drilling', 'engine idling', 'gunshot', 'jackhammer', 'siren', 'street music']"
            ]
        },
        {
            "cell_type": "code",
            "execution_count": 13,
            "metadata": {
                "id": "CIg6zff1e91w"
            },
            "outputs": [],
            "source": [
                "def load_audio_files(path, dataset):\n",
                "    walker = [str(p) for p in Path(path).glob(f'*.wav')]\n",
                "    for i, file_path in enumerate(walker):\n",
                "        path, filename = os.path.split(file_path)\n",
                "        title, _ = os.path.splitext(filename)\n",
                "        fsID, classID, occurrenceID, sliceID = [int(n) for n in title.split('-')]\n",
                "        # Load audio\n",
                "        waveform, sample_rate = pad_trunc(resample(rechannel(torchaudio.load(file_path),1),44100),4000)\n",
                "        assert waveform.shape == torch.Size(\n",
                "            [1, 176400]), f'Error: waveform shape is {waveform.shape}'\n",
                "        dataset.append([waveform[0], classID, title])\n",
                "\n",
                "    return dataset"
            ]
        },
        {
            "cell_type": "code",
            "execution_count": 15,
            "metadata": {
                "colab": {
                    "base_uri": "https://localhost:8080/"
                },
                "id": "fnFf3KEwhOfD",
                "outputId": "a7fc6def-f1d8-43c3-aafc-ac884c31a1b4"
            },
            "outputs": [
                {
                    "name": "stdout",
                    "output_type": "stream",
                    "text": [
                        "Loading  UrbanSounds8K\\fold1\n",
                        "Loading  UrbanSounds8K\\fold2\n",
                        "Length of dataset: 1761\n"
                    ]
                }
            ],
            "source": [
                "main_path = './UrbanSounds8K/'\n",
                "directory = [str(p) for p in Path(main_path).glob('fold*')][0:2]\n",
                "\n",
                "audio_dataset = []\n",
                "\n",
                "for path in directory:\n",
                "    print(\"Loading \", path)\n",
                "    audio_dataset = load_audio_files(path, audio_dataset)\n",
                "\n",
                "print(f\"Length of dataset: {len(audio_dataset)}\")"
            ]
        },
        {
            "cell_type": "code",
            "execution_count": null,
            "metadata": {
                "id": "SCRDz5APacE5"
            },
            "outputs": [],
            "source": [
                "# rm -rf ./UrbanSounds8K/spectrograms/ # remove all spectrograms"
            ]
        },
        {
            "cell_type": "code",
            "execution_count": 25,
            "metadata": {
                "id": "uByuBN-4b8UN"
            },
            "outputs": [
                {
                    "name": "stdout",
                    "output_type": "stream",
                    "text": [
                        "train: 0/1408\n",
                        "train: 1000/1408\n",
                        "val: 0/353\n",
                        "test: 0/837\n"
                    ]
                }
            ],
            "source": [
                "def create_spectrogram_images(trainloader, mode = \"train\"):\n",
                "    length = len(trainloader)\n",
                "    spectrogram = torchaudio.transforms.Spectrogram()\n",
                "    timeMask = torchaudio.transforms.TimeMasking(time_mask_param=80)\n",
                "    freqMask = torchaudio.transforms.FrequencyMasking(freq_mask_param=80)\n",
                "    num_TimeMask = 4\n",
                "    num_FreqMask = 4\n",
                "    num_FreqTimeMask = 4\n",
                "\n",
                "    for i, data in enumerate(trainloader):\n",
                "        waveform = data[0]\n",
                "        classID = data[1].item()\n",
                "        title = data[2][0]\n",
                "        directory = f'./UrbanSounds8K/spectrograms/{mode}/{class_map[classID]}/'\n",
                "        if(not os.path.isdir(directory)):\n",
                "            os.makedirs(directory, mode=0o777, exist_ok=True)\n",
                "\n",
                "        spectrogram_tensor = (spectrogram(waveform) + 1e-12).log2()\n",
                "\n",
                "        assert spectrogram_tensor.shape == torch.Size([1, 201, 883]), f\"Spectrogram size mismatch! {spectrogram_tensor.shape}\"\n",
                "\n",
                "        if mode ==\"train\":\n",
                "            # create transformed waveforms\n",
                "            for a in range(num_TimeMask):\n",
                "                masked_spectrogram_tensor = timeMask(spectrogram_tensor)\n",
                "                np.save(f'{directory}{title}-tm{a}_spec',\n",
                "                        masked_spectrogram_tensor.flipud())\n",
                "\n",
                "            for a in range(num_FreqMask):\n",
                "                masked_spectrogram_tensor = freqMask(spectrogram_tensor)\n",
                "                np.save(f'{directory}{title}-fm{a}_spec',\n",
                "                        masked_spectrogram_tensor.flipud())\n",
                "\n",
                "            for a in range(num_FreqTimeMask):\n",
                "                masked_spectrogram_tensor = freqMask(timeMask(spectrogram_tensor))\n",
                "                np.save(f'{directory}{title}-ftm{a}_spec',\n",
                "                        masked_spectrogram_tensor.flipud())\n",
                "\n",
                "        np.save(f'{directory}{title}-org_spec', spectrogram_tensor.flipud())\n",
                "        # break\n",
                "        if i % 1000 == 0:\n",
                "            print(f'{mode}: {i}/{length}')\n",
                "\n",
                "    return (length)*(num_TimeMask + num_FreqMask + num_FreqTimeMask + 1) if mode==\"train\" else (length)\n",
                "\n",
                "\n",
                "\n",
                "train_size = int(0.8 * len(audio_dataset))\n",
                "val_size = len(audio_dataset) - train_size\n",
                "train_dataset, val_dataset = torch.utils.data.random_split(\n",
                "    audio_dataset, [train_size, val_size])\n",
                "\n",
                "audio_dataloader = torch.utils.data.DataLoader(train_dataset,\n",
                "                                               batch_size=1,\n",
                "                                               shuffle=False,\n",
                "                                               num_workers=0)\n",
                "\n",
                "num_train = create_spectrogram_images(audio_dataloader, \"train\")\n",
                "\n",
                "audio_dataloader = torch.utils.data.DataLoader(val_dataset,\n",
                "                                               batch_size=1,\n",
                "                                               shuffle=False,\n",
                "                                               num_workers=0)\n",
                "\n",
                "num_val = create_spectrogram_images(audio_dataloader, \"val\")\n",
                "\n",
                "\n"
            ]
        },
        {
            "cell_type": "code",
            "execution_count": 29,
            "metadata": {},
            "outputs": [
                {
                    "name": "stdout",
                    "output_type": "stream",
                    "text": [
                        "\u001b[32m.\u001b[0m\u001b[32m.\u001b[0m\u001b[32m.\u001b[0m\u001b[32m                                                                                          [100%]\u001b[0m\n",
                        "\u001b[32m\u001b[32m\u001b[1m3 passed\u001b[0m\u001b[32m in 0.09s\u001b[0m\u001b[0m\n"
                    ]
                }
            ],
            "source": [
                "%%ipytest\n",
                "\n",
                "def test_spectrogram_generation_train():\n",
                "    assert len([\n",
                "        str(p) for p in Path('./UrbanSounds8K/spectrograms/train').glob('*')\n",
                "    ]) == len(class_map)\n",
                "\n",
                "    sum = 0\n",
                "    dir = [str(p) for p in Path('./UrbanSounds8K/spectrograms/train').glob('*')]\n",
                "    for path in dir:\n",
                "        num = len([str(p) for p in Path(path).glob('*')])\n",
                "        sum += num\n",
                "    assert sum == num_train\n",
                "\n",
                "def test_spectrogram_generation_val():\n",
                "    assert len([\n",
                "        str(p) for p in Path('./UrbanSounds8K/spectrograms/val').glob('*')\n",
                "    ]) == len(class_map)\n",
                "\n",
                "    sum = 0\n",
                "    dir = [str(p) for p in Path('./UrbanSounds8K/spectrograms/val').glob('*')]\n",
                "    for path in dir:\n",
                "        num = len([str(p) for p in Path(path).glob('*')])\n",
                "        sum += num\n",
                "\n",
                "    assert sum == num_val\n",
                "\n",
                "def test_spectrogram_generation_test():\n",
                "    sum = 0\n",
                "    dir = [str(p) for p in Path('./UrbanSounds8K/spectrograms/test').glob('*')]\n",
                "    for path in dir:\n",
                "        num = len([str(p) for p in Path(path).glob('*')])\n",
                "        sum += num\n",
                "\n",
                "    assert sum == num_test"
            ]
        },
        {
            "cell_type": "markdown",
            "metadata": {},
            "source": [
                "Inspect a sample"
            ]
        },
        {
            "cell_type": "code",
            "execution_count": 15,
            "metadata": {
                "colab": {
                    "base_uri": "https://localhost:8080/",
                    "height": 286
                },
                "id": "_DUePztj1BhY",
                "outputId": "71d27d64-7a01-43b5-950a-7b7c92d46d0a"
            },
            "outputs": [
                {
                    "name": "stdout",
                    "output_type": "stream",
                    "text": [
                        "-39.863136   10.445534\n"
                    ]
                },
                {
                    "data": {
                        "image/png": "[encoded data removed]",
                        "text/plain": [
                            "<Figure size 640x480 with 2 Axes>"
                        ]
                    },
                    "metadata": {},
                    "output_type": "display_data"
                }
            ],
            "source": [
                "test_load = np.load(\n",
                "        './UrbanSounds8K/spectrograms/train/gunshot/122690-6-0-0-fm0_spec.npy')\n",
                "plt.imshow(test_load[0], origin=\"lower\")\n",
                "plt.colorbar()\n",
                "print(test_load.min(), \" \", test_load.max())"
            ]
        },
        {
            "cell_type": "markdown",
            "metadata": {
                "id": "OksgqWXLlGzx"
            },
            "source": [
                "**Actual Machine Learning**"
            ]
        },
        {
            "cell_type": "code",
            "execution_count": 38,
            "metadata": {
                "id": "-XHxisXgPOeN"
            },
            "outputs": [],
            "source": [
                "import os\n",
                "import IPython.display as ipd\n",
                "from IPython.display import Audio\n",
                "import random\n",
                "from torchvision import datasets, transforms\n",
                "import torch\n",
                "import torch.nn as nn\n",
                "import torch.nn.functional as F\n",
                "import torch.optim as optim\n",
                "import numpy as np\n",
                "from torchvision import datasets, models, transforms\n",
                "# from torchinfo import summary\n",
                "import matplotlib.pyplot as plt\n",
                "from torch.utils.data import Dataset, DataLoader\n",
                "from pathlib import Path\n",
                "import torchvision\n",
                "from torch.utils.tensorboard import SummaryWriter"
            ]
        },
        {
            "cell_type": "code",
            "execution_count": 153,
            "metadata": {
                "colab": {
                    "base_uri": "https://localhost:8080/"
                },
                "id": "VHCkJ1iPqSiu",
                "outputId": "e4d42133-d1b6-4ae9-82ab-71efab8aa770"
            },
            "outputs": [
                {
                    "name": "stdout",
                    "output_type": "stream",
                    "text": [
                        "Training size: 18304\n",
                        "Validation size: 353\n"
                    ]
                },
                {
                    "name": "stderr",
                    "output_type": "stream",
                    "text": [
                        "Using cache found in C:\\Users\\JianQuan/.cache\\torch\\hub\\pytorch_vision_v0.10.0\n"
                    ]
                },
                {
                    "data": {
                        "text/plain": [
                            "device(type='cuda', index=0)"
                        ]
                    },
                    "execution_count": 153,
                    "metadata": {},
                    "output_type": "execute_result"
                }
            ],
            "source": [
                "def npy_loader(path):\n",
                "    sample = torch.from_numpy(np.load(path))\n",
                "    return sample\n",
                "\n",
                "\n",
                "audio_train_dataset = datasets.DatasetFolder(root='./UrbanSounds8K/spectrograms/train/',\n",
                "                                       loader=npy_loader,\n",
                "                                       extensions=['.npy'])\n",
                "\n",
                "audio_val_dataset = datasets.DatasetFolder(root='./UrbanSounds8K/spectrograms/val/',\n",
                "                                       loader=npy_loader,\n",
                "                                       extensions=['.npy'])\n",
                "\n",
                "print(\"Training size:\", len(audio_train_dataset))\n",
                "print(\"Validation size:\",len(audio_val_dataset))\n",
                "\n",
                "train_dataloader = torch.utils.data.DataLoader(audio_train_dataset,\n",
                "                                               batch_size=64,\n",
                "                                               num_workers=0,\n",
                "                                               shuffle=True)\n",
                "\n",
                "val_dataloader = torch.utils.data.DataLoader(audio_val_dataset,\n",
                "                                              batch_size=64,\n",
                "                                              num_workers=0,\n",
                "                                              shuffle=True,\n",
                "                                             )\n",
                "\n",
                "import torch.nn.functional as F\n",
                "from torch.nn import init\n",
                "\n",
                "model = torch.hub.load('pytorch/vision:v0.10.0', 'resnet18')\n",
                "model.conv1 = nn.Conv2d(1,\n",
                "                        64,\n",
                "                        kernel_size=(7, 7),\n",
                "                        stride=(2, 2),\n",
                "                        padding=(3, 3),\n",
                "                        bias=False)\n",
                "model.fc = nn.Linear(in_features=512, out_features=10, bias=True)\n",
                "device = torch.device(\"cuda:0\" if torch.cuda.is_available() else \"cpu\")\n",
                "model = model.to(device)\n",
                "\n",
                "# Check that it is on Cuda\n",
                "next(model.parameters()).device"
            ]
        },
        {
            "cell_type": "code",
            "execution_count": 3,
            "metadata": {
                "id": "-MJQlAMOlfMn"
            },
            "outputs": [],
            "source": [
                "# rm -rf ./logsdir/ # remove all logs"
            ]
        },
        {
            "cell_type": "code",
            "execution_count": 158,
            "metadata": {
                "id": "aVrAKQinQfWA"
            },
            "outputs": [],
            "source": [
                "# cost function used to determine best parameters\n",
                "cost = torch.nn.CrossEntropyLoss()\n",
                "\n",
                "# used to create optimal parameters\n",
                "learning_rate = 0.001\n",
                "optimizer = torch.optim.Adam(model.parameters(), lr=learning_rate)\n",
                "\n",
                "# Create the training function\n",
                "def train(dataloader, model, optimizer):\n",
                "    train_size = len(dataloader.dataset)\n",
                "    batch_size = len(next(iter(dataloader))[1])\n",
                "    total_batch = len(dataloader)\n",
                "    train_loss, train_accuracy = 0, 0\n",
                "\n",
                "    model.train()\n",
                "\n",
                "    for batch, (X, Y) in enumerate(dataloader):\n",
                "        X, Y = X.to(device), Y.to(device)\n",
                "        optimizer.zero_grad()\n",
                "        pred = model(X)\n",
                "        batch_loss = cost(pred, Y)\n",
                "        batch_loss.backward()\n",
                "        optimizer.step()\n",
                "        batch_accuracy = (pred.argmax(1)==Y).type(torch.float).sum()\n",
                "        train_loss += batch_loss.item()\n",
                "        train_accuracy += batch_accuracy.item()\n",
                "        if batch % 100 == 0:\n",
                "            print(\n",
                "                f\"Training batch {batch}/{total_batch} -> Loss: {batch_loss.item()}  Accuracy: {batch_accuracy.item()/batch_size*100}%\"\n",
                "            )\n",
                "    train_loss /= train_size\n",
                "    train_accuracy /= train_size/100\n",
                "    return(train_loss, train_accuracy)\n",
                "\n",
                "\n",
                "# Create the validation function\n",
                "def val(dataloader, model):\n",
                "    val_size = len(dataloader.dataset)\n",
                "    total_batch = len(dataloader)\n",
                "    val_loss, val_accuracy = 0, 0\n",
                "\n",
                "    model.eval()\n",
                "\n",
                "    with torch.no_grad():\n",
                "        for batch, (X, Y) in enumerate(dataloader):\n",
                "            X, Y = X.to(device), Y.to(device)\n",
                "            pred = model(X)\n",
                "            batch_loss = cost(pred, Y)\n",
                "            batch_accuracy = (pred.argmax(1)==Y).type(torch.float).sum()\n",
                "            val_loss += batch_loss.item()\n",
                "            val_accuracy += batch_accuracy.item()\n",
                "        if batch % 10 == 0:\n",
                "            print(\n",
                "                f\"Validation batch {batch}/{total_batch} -> Loss: {batch_loss.item()}  Accuracy: {batch_accuracy.item()/batch_size*100}%\"\n",
                "            )\n",
                "\n",
                "    val_loss /= val_size\n",
                "    val_accuracy /= val_size/100\n",
                "    return(val_loss, val_accuracy)"
            ]
        },
        {
            "cell_type": "markdown",
            "metadata": {
                "id": "4aFppr-urj8t"
            },
            "source": [
                "Tensorboard model graph"
            ]
        },
        {
            "cell_type": "code",
            "execution_count": 148,
            "metadata": {},
            "outputs": [],
            "source": [
                "first_batch = next(iter(train_dataloader))"
            ]
        },
        {
            "cell_type": "code",
            "execution_count": 156,
            "metadata": {
                "id": "bQEUozxSkwc9"
            },
            "outputs": [],
            "source": [
                "import time\n",
                "from datetime import datetime\n",
                "\n",
                "title = datetime.now().strftime(\"%Y-%m-%d,%H-%M-%S\")\n",
                "# title=\"freqTimeFulldataset10out\"\n",
                "\n",
                "writer = SummaryWriter(f'./logs/{title}')\n",
                "writer.add_graph(model, first_batch[0].to(device))\n",
                "writer.close()"
            ]
        },
        {
            "cell_type": "code",
            "execution_count": 6,
            "metadata": {
                "id": "nalCtoeHsRrv"
            },
            "outputs": [],
            "source": [
                "def tensorBoardLogging(train_loss, train_accuracy, val_loss, val_accuracy, epoch):\n",
                "    writer.add_scalar('1 Training/1 Model loss', train_loss, epoch)\n",
                "    writer.add_scalar('1 Training/2 Model accuracy', train_accuracy, epoch)\n",
                "    writer.add_scalar('2 Validate/1 Model loss', val_loss, epoch)\n",
                "    writer.add_scalar('2 Validate/2 Model accuracy', val_accuracy, epoch)\n",
                "    writer.close()"
            ]
        },
        {
            "cell_type": "code",
            "execution_count": 159,
            "metadata": {
                "colab": {
                    "base_uri": "https://localhost:8080/",
                    "height": 432
                },
                "id": "obI3fgwAQhLP",
                "outputId": "8df092c6-e4c0-46f0-fcc8-fb2e7903291a"
            },
            "outputs": [
                {
                    "name": "stdout",
                    "output_type": "stream",
                    "text": [
                        "Epoch 1/20\n",
                        "-------------------------------\n",
                        "Training batch 0/286 -> Loss: 2.346491813659668  Accuracy: 10.9375%\n"
                    ]
                },
                {
                    "ename": "KeyboardInterrupt",
                    "evalue": "",
                    "output_type": "error",
                    "traceback": [
                        "\u001b[1;31m---------------------------------------------------------------------------\u001b[0m",
                        "\u001b[1;31mKeyboardInterrupt\u001b[0m                         Traceback (most recent call last)",
                        "Cell \u001b[1;32mIn [159], line 7\u001b[0m\n\u001b[0;32m      5\u001b[0m \u001b[38;5;28mprint\u001b[39m(\u001b[38;5;124mf\u001b[39m\u001b[38;5;124m'\u001b[39m\u001b[38;5;124mEpoch \u001b[39m\u001b[38;5;132;01m{\u001b[39;00mepoch\u001b[38;5;241m+\u001b[39m\u001b[38;5;241m1\u001b[39m\u001b[38;5;132;01m}\u001b[39;00m\u001b[38;5;124m/\u001b[39m\u001b[38;5;132;01m{\u001b[39;00mepochs\u001b[38;5;132;01m}\u001b[39;00m\u001b[38;5;130;01m\\n\u001b[39;00m\u001b[38;5;124m-------------------------------\u001b[39m\u001b[38;5;124m'\u001b[39m)\n\u001b[0;32m      6\u001b[0m start \u001b[38;5;241m=\u001b[39m time\u001b[38;5;241m.\u001b[39mtime()\n\u001b[1;32m----> 7\u001b[0m train_loss, train_accuracy \u001b[38;5;241m=\u001b[39m \u001b[43mtrain\u001b[49m\u001b[43m(\u001b[49m\u001b[43mtrain_dataloader\u001b[49m\u001b[43m,\u001b[49m\u001b[43m \u001b[49m\u001b[43mmodel\u001b[49m\u001b[43m,\u001b[49m\u001b[43m \u001b[49m\u001b[43moptimizer\u001b[49m\u001b[43m)\u001b[49m\n\u001b[0;32m      8\u001b[0m val_loss, val_accuracy \u001b[38;5;241m=\u001b[39m val(val_dataloader, model)\n\u001b[0;32m      9\u001b[0m end \u001b[38;5;241m=\u001b[39m time\u001b[38;5;241m.\u001b[39mtime()\n",
                        "Cell \u001b[1;32mIn [158], line 25\u001b[0m, in \u001b[0;36mtrain\u001b[1;34m(dataloader, model, optimizer)\u001b[0m\n\u001b[0;32m     23\u001b[0m optimizer\u001b[38;5;241m.\u001b[39mstep()\n\u001b[0;32m     24\u001b[0m batch_accuracy \u001b[38;5;241m=\u001b[39m (pred\u001b[38;5;241m.\u001b[39margmax(\u001b[38;5;241m1\u001b[39m)\u001b[38;5;241m==\u001b[39mY)\u001b[38;5;241m.\u001b[39mtype(torch\u001b[38;5;241m.\u001b[39mfloat)\u001b[38;5;241m.\u001b[39msum()\n\u001b[1;32m---> 25\u001b[0m train_loss \u001b[38;5;241m+\u001b[39m\u001b[38;5;241m=\u001b[39m \u001b[43mbatch_loss\u001b[49m\u001b[38;5;241;43m.\u001b[39;49m\u001b[43mitem\u001b[49m\u001b[43m(\u001b[49m\u001b[43m)\u001b[49m\n\u001b[0;32m     26\u001b[0m train_accuracy \u001b[38;5;241m+\u001b[39m\u001b[38;5;241m=\u001b[39m batch_accuracy\u001b[38;5;241m.\u001b[39mitem()\n\u001b[0;32m     27\u001b[0m \u001b[38;5;28;01mif\u001b[39;00m batch \u001b[38;5;241m%\u001b[39m \u001b[38;5;241m100\u001b[39m \u001b[38;5;241m==\u001b[39m \u001b[38;5;241m0\u001b[39m:\n",
                        "\u001b[1;31mKeyboardInterrupt\u001b[0m: "
                    ]
                }
            ],
            "source": [
                "import time\n",
                "\n",
                "epochs = 20\n",
                "for epoch in range(epochs):\n",
                "    print(f'Epoch {epoch+1}/{epochs}\\n-------------------------------')\n",
                "    start = time.time()\n",
                "    train_loss, train_accuracy = train(train_dataloader, model, optimizer)\n",
                "    val_loss, val_accuracy = val(val_dataloader, model)\n",
                "    end = time.time()\n",
                "    print(f\"\\nEpoch duration: {end - start} seconds\")\n",
                "    print(f'Training | Loss: {train_loss} Accuracy: {train_accuracy}%')\n",
                "    print(f'Validating  | Loss: {val_loss} Accuracy: {val_accuracy}% \\n')\n",
                "    tensorBoardLogging(train_loss, train_accuracy, val_loss, val_accuracy, epoch)\n",
                "\n",
                "print('Done!')"
            ]
        },
        {
            "cell_type": "code",
            "execution_count": 46,
            "metadata": {},
            "outputs": [],
            "source": [
                "torch.save(model.state_dict(), f\"./model/model_t4,f4,tf4.pt\")"
            ]
        },
        {
            "cell_type": "markdown",
            "metadata": {},
            "source": [
                "Testing trained model"
            ]
        },
        {
            "cell_type": "code",
            "execution_count": 52,
            "metadata": {},
            "outputs": [
                {
                    "name": "stderr",
                    "output_type": "stream",
                    "text": [
                        "Using cache found in C:\\Users\\JianQuan/.cache\\torch\\hub\\pytorch_vision_v0.10.0\n"
                    ]
                }
            ],
            "source": [
                "device = torch.device(\"cuda:0\" if torch.cuda.is_available() else \"cpu\")\n",
                "\n",
                "model = torch.hub.load('pytorch/vision:v0.10.0', 'resnet18')\n",
                "model.conv1 = nn.Conv2d(1,\n",
                "                        64,\n",
                "                        kernel_size=(7, 7),\n",
                "                        stride=(2, 2),\n",
                "                        padding=(3, 3),\n",
                "                        bias=False)\n",
                "model.load_state_dict(torch.load(\"./model/model_t4,f4,tf4.pt\"))\n",
                "\n",
                "model = model.to(device)"
            ]
        },
        {
            "cell_type": "code",
            "execution_count": 108,
            "metadata": {},
            "outputs": [
                {
                    "name": "stdout",
                    "output_type": "stream",
                    "text": [
                        "test: 0/837\n"
                    ]
                }
            ],
            "source": [
                "test_dataset = []\n",
                "test_dataset = load_audio_files(\"./UrbanSounds8K/test set/\", test_dataset)\n",
                "\n",
                "audio_dataloader = torch.utils.data.DataLoader(test_dataset,\n",
                "                                               batch_size=1,\n",
                "                                               shuffle=False,\n",
                "                                               num_workers=0)\n",
                "\n",
                "num_test = create_spectrogram_images(audio_dataloader, \"test\")\n",
                "\n",
                "def npy_loader(path):\n",
                "    sample = torch.from_numpy(np.load(path))\n",
                "    return sample\n",
                "\n",
                "\n",
                "spec_test_dataset = datasets.DatasetFolder(\n",
                "    root='./UrbanSounds8K/spectrograms/test/',\n",
                "    loader=npy_loader,\n",
                "    extensions=['.npy'])\n",
                "\n",
                "test_dataloader = torch.utils.data.DataLoader(\n",
                "    spec_test_dataset,\n",
                "    batch_size=64,\n",
                "    num_workers=0,\n",
                "    shuffle=False,\n",
                ")"
            ]
        },
        {
            "cell_type": "code",
            "execution_count": 85,
            "metadata": {},
            "outputs": [
                {
                    "data": {
                        "text/plain": [
                            "(tensor([[[ 1.9782e+00, -1.5946e+00, -3.4768e+00,  ..., -3.4739e-01,\n",
                            "            3.9526e-01,  4.1237e-01],\n",
                            "          [ 1.2299e-01,  4.8282e-01,  2.8185e-02,  ..., -1.1781e-02,\n",
                            "            9.6032e-01, -1.5953e+00],\n",
                            "          [-3.3370e+00, -1.7491e+00,  2.0832e-01,  ..., -2.3191e+00,\n",
                            "           -2.1903e-01, -2.7251e+00],\n",
                            "          ...,\n",
                            "          [-2.0507e+01, -2.5278e+01, -2.7352e+01,  ..., -2.4447e+01,\n",
                            "           -2.4472e+01, -2.7562e+01],\n",
                            "          [-2.2551e+01, -2.3613e+01, -2.5990e+01,  ..., -2.9114e+01,\n",
                            "           -2.3208e+01, -3.0224e+01],\n",
                            "          [-2.6916e+01, -2.7990e+01, -3.0528e+01,  ..., -2.4957e+01,\n",
                            "           -2.3403e+01, -3.1538e+01]]]),\n",
                            " 0)"
                        ]
                    },
                    "execution_count": 85,
                    "metadata": {},
                    "output_type": "execute_result"
                }
            ],
            "source": [
                "next(iter(spec_test_dataset))"
            ]
        },
        {
            "cell_type": "code",
            "execution_count": 132,
            "metadata": {},
            "outputs": [
                {
                    "name": "stdout",
                    "output_type": "stream",
                    "text": [
                        "Test loss: 1.1381309649756592e-05\n",
                        "Test accuracy: 100.00000000000001%\n"
                    ]
                }
            ],
            "source": [
                "test_size = len(test_dataloader.dataset)\n",
                "total_batch = len(test_dataloader)\n",
                "test_loss, test_accuracy = 0, 0\n",
                "\n",
                "model.eval()\n",
                "\n",
                "cost = torch.nn.CrossEntropyLoss()\n",
                "\n",
                "with torch.no_grad():\n",
                "    for batch, (X, Y) in enumerate(test_dataloader):\n",
                "        X, Y = X.to(device), Y.to(device)\n",
                "        pred = model(X)\n",
                "        batch_loss = cost(pred, Y)\n",
                "        batch_accuracy = (pred.argmax(1) == Y).type(torch.float).sum()\n",
                "        test_loss += batch_loss.item()\n",
                "        test_accuracy += batch_accuracy.item()\n",
                "        if batch == 0:\n",
                "            first_batch_y = Y\n",
                "            first_batch_p = pred.argmax(1)\n",
                "\n",
                "\n",
                "test_loss /= test_size\n",
                "test_accuracy /= test_size/100\n",
                "\n",
                "print(f\"Test loss: {test_loss}\")\n",
                "print(f\"Test accuracy: {test_accuracy}%\")\n"
            ]
        },
        {
            "cell_type": "code",
            "execution_count": 138,
            "metadata": {},
            "outputs": [],
            "source": [
                "for i in range(len(first_batch)):\n",
                "    title\n",
                "    writer.add_audio(\n",
                "        f'Test/({test_dataset[i][2]})A:{class_map[first_batch_y[i].item()]} P:{class_map[first_batch_p[i].item()]}',\n",
                "        test_dataset[i][0], 44100)"
            ]
        },
        {
            "cell_type": "code",
            "execution_count": 65,
            "metadata": {},
            "outputs": [
                {
                    "ename": "NameError",
                    "evalue": "name 'create_spectrogram_images' is not defined",
                    "output_type": "error",
                    "traceback": [
                        "\u001b[1;31m---------------------------------------------------------------------------\u001b[0m",
                        "\u001b[1;31mNameError\u001b[0m                                 Traceback (most recent call last)",
                        "Cell \u001b[1;32mIn [65], line 11\u001b[0m\n\u001b[0;32m      4\u001b[0m test_dataset \u001b[38;5;241m=\u001b[39m load_audio_files(\u001b[38;5;124m'\u001b[39m\u001b[38;5;124m./UrbanSounds8K/test set/\u001b[39m\u001b[38;5;124m'\u001b[39m, audio_dataset)\n\u001b[0;32m      6\u001b[0m audio_dataloader \u001b[38;5;241m=\u001b[39m torch\u001b[38;5;241m.\u001b[39mutils\u001b[38;5;241m.\u001b[39mdata\u001b[38;5;241m.\u001b[39mDataLoader(test_dataset,\n\u001b[0;32m      7\u001b[0m                                                batch_size\u001b[38;5;241m=\u001b[39m\u001b[38;5;241m1\u001b[39m,\n\u001b[0;32m      8\u001b[0m                                                shuffle\u001b[38;5;241m=\u001b[39m\u001b[38;5;28;01mFalse\u001b[39;00m,\n\u001b[0;32m      9\u001b[0m                                                num_workers\u001b[38;5;241m=\u001b[39m\u001b[38;5;241m0\u001b[39m)\n\u001b[1;32m---> 11\u001b[0m \u001b[43mcreate_spectrogram_images\u001b[49m(audio_datalaoder, \u001b[38;5;28;01mFalse\u001b[39;00m)\n\u001b[0;32m     13\u001b[0m \u001b[38;5;28;01mfor\u001b[39;00m i, randIndex \u001b[38;5;129;01min\u001b[39;00m \u001b[38;5;28menumerate\u001b[39m(randIndex_list):\n\u001b[0;32m     14\u001b[0m     waveform, class_id, title \u001b[38;5;241m=\u001b[39m test_dataset[randIndex]\n",
                        "\u001b[1;31mNameError\u001b[0m: name 'create_spectrogram_images' is not defined"
                    ]
                }
            ],
            "source": [
                "for i, randIndex in enumerate(randIndex_list):\n",
                "    waveform, class_id, title = test_dataset[randIndex]\n",
                "    spectrogram_tensor = (spectrogram(waveform) + 1e-12).log2()\n",
                "\n",
                "\n",
                "    with torch.no_grad():\n",
                "        model.eval()\n",
                "        output = model(torch.reshape(spectrogram_tensor, (-1,1)))\n",
                "    writer.add_audio(\n",
                "        f'Test/({title})A:{class_map[class_id]} P:{class_map[output]}',\n",
                "        waveform, 44100)\n",
                "\n",
                "writer.close()"
            ]
        },
        {
            "cell_type": "markdown",
            "metadata": {
                "id": "DIAP8Nvg88ag"
            },
            "source": [
                "**Debugging**"
            ]
        },
        {
            "cell_type": "code",
            "execution_count": null,
            "metadata": {
                "colab": {
                    "base_uri": "https://localhost:8080/"
                },
                "id": "RumP79RPD4v6",
                "outputId": "158f193d-1fbe-4000-90b8-97bb285389bc"
            },
            "outputs": [],
            "source": [
                "\n",
                "# audio_dataset = []\n",
                "# sum = 0\n",
                "\n",
                "# main_path = './UrbanSounds8K/spectrograms/'\n",
                "\n",
                "# dir = [str(p) for p in Path(main_path).glob('*')]\n",
                "# for path in dir:\n",
                "#   print('Loading: '+ path)\n",
                "#   num = len([str(p) for p in Path(path).glob('*')])\n",
                "#   sum += num\n",
                "#   print(num)\n",
                "\n",
                "# sum"
            ]
        }
    ],
    "metadata": {
        "accelerator": "GPU",
        "colab": {
            "collapsed_sections": [],
            "provenance": []
        },
        "kernelspec": {
            "display_name": "Python 3.10.7 64-bit (microsoft store)",
            "language": "python",
            "name": "python3"
        },
        "language_info": {
            "codemirror_mode": {
                "name": "ipython",
                "version": 3
            },
            "file_extension": ".py",
            "mimetype": "text/x-python",
            "name": "python",
            "nbconvert_exporter": "python",
            "pygments_lexer": "ipython3",
            "version": "3.10.7"
        },
        "vscode": {
            "interpreter": {
                "hash": "9e87201990ab3ef9f8e8015a432b605669f23d2887f787d8acc74a222f9112d5"
            }
        }
    },
    "nbformat": 4,
    "nbformat_minor": 4
}
